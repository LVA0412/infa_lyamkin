{
  "nbformat": 4,
  "nbformat_minor": 0,
  "metadata": {
    "colab": {
      "provenance": [],
      "authorship_tag": "ABX9TyPT9zBJWnZAAywv5VfETXiy",
      "include_colab_link": true
    },
    "kernelspec": {
      "name": "python3",
      "display_name": "Python 3"
    },
    "language_info": {
      "name": "python"
    }
  },
  "cells": [
    {
      "cell_type": "markdown",
      "metadata": {
        "id": "view-in-github",
        "colab_type": "text"
      },
      "source": [
        "<a href=\"https://colab.research.google.com/github/LVA0412/infa_lyamkin/blob/main/%D0%9C%D0%B0%D0%B3%D0%B8%D1%81%D1%82%D1%80%D0%B0%D1%82%D1%83%D1%80%D0%B0_Python.ipynb\" target=\"_parent\"><img src=\"https://colab.research.google.com/assets/colab-badge.svg\" alt=\"Open In Colab\"/></a>"
      ]
    },
    {
      "cell_type": "code",
      "source": [
        "#19. Подстрока в строке\n",
        "str1 = input()\n",
        "curchar = 97\n",
        "tbegin = 0\n",
        "str2 = \"\"\n",
        "for i in range(len(str1)):\n",
        "    if (ord(str1[i]) <= curchar):\n",
        "        str2 += chr(curchar)\n",
        "        curchar += 1\n",
        "        if curchar == 123:\n",
        "            tbegin = i\n",
        "            break\n",
        "    else:\n",
        "        str2 += str1[i]\n",
        "if tbegin < len(str1):\n",
        "    str2 = str2 + str1[tbegin+1:len(str1)]\n",
        "if curchar >=122:\n",
        "    print(str2)\n",
        "else:\n",
        "    print(-1)"
      ],
      "metadata": {
        "colab": {
          "base_uri": "https://localhost:8080/"
        },
        "id": "txOtsFeLSBC-",
        "outputId": "03ec86d6-de0a-44f0-9464-7776758ac6d0"
      },
      "execution_count": null,
      "outputs": [
        {
          "output_type": "stream",
          "name": "stdout",
          "text": [
            "stwvyxtvttsvqursvvuxtqutwtruwwuuvxpvwswnuywtuqxxxqwrsuvrttourvqttwwsuwtxrwtvswszvtrrvvruxpsuuuwxx\n",
            "-1\n"
          ]
        }
      ]
    },
    {
      "cell_type": "code",
      "source": [
        "str1 = \"z\"\n",
        "for i in range(len(str1)):\n",
        "    print(ord(str1[i]))"
      ],
      "metadata": {
        "colab": {
          "base_uri": "https://localhost:8080/"
        },
        "id": "Eezce2vtoYIl",
        "outputId": "55965382-6a38-4421-eb87-a40df42bb217"
      },
      "execution_count": null,
      "outputs": [
        {
          "output_type": "stream",
          "name": "stdout",
          "text": [
            "122\n"
          ]
        }
      ]
    },
    {
      "cell_type": "code",
      "source": [
        "# 17. Выставка\n",
        "nc = input()\n",
        "lnc = nc.split(\" \")\n",
        "n = int(lnc[0])\n",
        "cats = int(lnc[1])\n",
        "str1 = input().strip()\n",
        "#list1 = str1.split(\" \")\n",
        "list2 = []\n",
        "for i in range(len(str1)):\n",
        "    list2.append(int(str1[i]))\n",
        "count1 = 0\n",
        "catscount = 0\n",
        "for item in list2:\n",
        "    if item == 0:\n",
        "        count1 += 1\n",
        "    else:\n",
        "        if count1 != 0:\n",
        "            if (count1 % 2) == 0:\n",
        "                catscount = catscount + (count1 // 2)\n",
        "            else:\n",
        "                catscount = catscount + (count1 // 2) + 1\n",
        "            count1 = 0\n",
        "if count1 != 0:\n",
        "    if (count1 % 2) == 0:\n",
        "        catscount = catscount + (count1 // 2)\n",
        "    else:\n",
        "        catscount = catscount + (count1 // 2) + 1        \n",
        "print(catscount)\n",
        "print(max(0, cats - catscount))"
      ],
      "metadata": {
        "colab": {
          "base_uri": "https://localhost:8080/"
        },
        "id": "y4dLjql12imG",
        "outputId": "8e650f2f-bfe7-43ed-d515-675179b9f062"
      },
      "execution_count": null,
      "outputs": [
        {
          "output_type": "stream",
          "name": "stdout",
          "text": [
            "40 9\n",
            "1000000\n",
            "3\n",
            "6\n"
          ]
        }
      ]
    },
    {
      "cell_type": "code",
      "source": [
        "#16. Палаточный лагерь\n",
        "import numpy as np\n",
        "import sys\n",
        "p = int(input())\n",
        "if p == 0:\n",
        "    print(0)\n",
        "    sys.exit()\n",
        "nm = input()\n",
        "lnm = nm.split(\" \")\n",
        "n = int(lnm[0])\n",
        "m = int(lnm[1])\n",
        "ls0 = []\n",
        "for i in range(n):\n",
        "    curstr = input().strip()\n",
        "    curlist = curstr.split(\" \")\n",
        "    ls0 += curlist\n",
        "result = [int(item) for item in ls0]\n",
        "A1 = np.array(result)\n",
        "A2 = A1.reshape(n,m)\n",
        "#print(A2)\n",
        "krow = 0\n",
        "for i in range(n):\n",
        "    kk = 0\n",
        "    kmax = 0\n",
        "    for j in range(m):\n",
        "        if A2[i,j] == 0:\n",
        "            kk += 1\n",
        "            if kmax <= kk: kmax = kk\n",
        "        else:\n",
        "            if kmax <= kk:\n",
        "                kmax = kk\n",
        "                kk = 0\n",
        "            else: \n",
        "                kk=0\n",
        "    #print(\"kk=\", kk,\"    kmax=\", kmax)\n",
        "    if kmax >= p:\n",
        "        krow += 1\n",
        "        print(i)\n",
        "if krow == 0: print(krow)"
      ],
      "metadata": {
        "id": "Dfvut0j580QU",
        "colab": {
          "base_uri": "https://localhost:8080/"
        },
        "outputId": "9470f9f4-fb22-4225-a037-47a633894c93"
      },
      "execution_count": null,
      "outputs": [
        {
          "output_type": "stream",
          "name": "stdout",
          "text": [
            "2\n",
            "2 2\n",
            "1 1\n",
            "1 1\n",
            "0\n"
          ]
        }
      ]
    },
    {
      "cell_type": "markdown",
      "source": [
        "8. Квартили"
      ],
      "metadata": {
        "id": "NkI9Bolkkp_w"
      }
    },
    {
      "cell_type": "code",
      "source": [
        "#str1 = \"6 7 8 9\"\n",
        "str1 = \"1 2 3 4 5 6 7 8 9 10\"\n",
        "#str1 = input()\n",
        "def mediana(arr):\n",
        "    l1 = len(arr)\n",
        "    if l1 % 2 == 0:\n",
        "        med = (arr[l1 // 2 - 1] + arr[l1 // 2]) / 2\n",
        "    else:\n",
        "        med = arr[l1 // 2]\n",
        "    return med\n",
        "str_list = str1.split()\n",
        "array_of_numbers = []\n",
        "for number_str in str_list:\n",
        "    array_of_numbers.append(float(number_str))\n",
        "array_of_numbers = sorted(array_of_numbers)\n",
        "q1 = mediana(array_of_numbers[0:len(array_of_numbers) // 2])\n",
        "q2 = mediana(array_of_numbers)\n",
        "if (len(array_of_numbers) % 2) == 0 :\n",
        "    q3 = mediana(array_of_numbers[len(array_of_numbers) // 2 :])\n",
        "else:\n",
        "    q3 = mediana(array_of_numbers[len(array_of_numbers) // 2 + 1  :])\n",
        "print(q1)\n",
        "print(q2)\n",
        "print(q3)"
      ],
      "metadata": {
        "colab": {
          "base_uri": "https://localhost:8080/"
        },
        "id": "iGuLlLhjYBN8",
        "outputId": "ab5bce6b-274e-4ae3-de69-18c5b05ed478"
      },
      "execution_count": null,
      "outputs": [
        {
          "output_type": "stream",
          "name": "stdout",
          "text": [
            "3.0\n",
            "5.5\n",
            "8.0\n"
          ]
        }
      ]
    },
    {
      "cell_type": "markdown",
      "source": [
        "6. Медиана"
      ],
      "metadata": {
        "id": "ajECM69lYE70"
      }
    },
    {
      "cell_type": "code",
      "execution_count": null,
      "metadata": {
        "colab": {
          "base_uri": "https://localhost:8080/"
        },
        "id": "vllMefN0moT0",
        "outputId": "d947f926-4493-4cb1-dfc7-25112c32d24d"
      },
      "outputs": [
        {
          "output_type": "stream",
          "name": "stdout",
          "text": [
            "2\n",
            "2.0\n"
          ]
        }
      ],
      "source": [
        "str1 = input()\n",
        "str_list = str1.split()\n",
        "array_of_numbers = []\n",
        "for number_str in str_list:\n",
        "    array_of_numbers.append(float(number_str))\n",
        "array_of_numbers = sorted(array_of_numbers)\n",
        "l1 = len(str_list)\n",
        "if l1 % 2 == 0:\n",
        "    med = (array_of_numbers[l1 // 2 - 1] + array_of_numbers[l1 // 2]) / 2\n",
        "else:\n",
        "    med = array_of_numbers[l1 // 2]\n",
        "print(med)\n"
      ]
    },
    {
      "cell_type": "markdown",
      "source": [
        "40. Решение Ольгой квадратного уравнения"
      ],
      "metadata": {
        "id": "6pMnXp62knhg"
      }
    },
    {
      "cell_type": "code",
      "source": [
        "str1 = input()\n",
        "k_list = str1.split()\n",
        "a = float(k_list[0])\n",
        "b = float(k_list[1])\n",
        "c = float(k_list[2])\n",
        "\n",
        "if (a == 0) and (b == 0) and (c == 0):\n",
        "    answer1 = \"ALL\"\n",
        "else:\n",
        "    if (a == 0) and (b == 0) and (c != 0):\n",
        "        answer1 = \"NO\"\n",
        "    else:\n",
        "        if (a == 0):\n",
        "            answer1 = -c / b\n",
        "        else:\n",
        "            d = b ** 2 - 4 * a * c\n",
        "            if d < 0:\n",
        "                answer1 = \"NO\"\n",
        "            else:\n",
        "                if d == 0:\n",
        "                    answer1 = -b / (2 * a)\n",
        "                else:\n",
        "                    x1 = (-b - d ** 0.5) / (2 * a)\n",
        "                    x2 = (-b + d ** 0.5) / (2 * a)\n",
        "                    answer1 = str(x1) + \" \" + str(x2)\n",
        "print(answer1)"
      ],
      "metadata": {
        "colab": {
          "base_uri": "https://localhost:8080/"
        },
        "id": "oaseyAzIkiWa",
        "outputId": "3bf49e4e-37a9-4988-dffe-d9fb9428d59b"
      },
      "execution_count": null,
      "outputs": [
        {
          "output_type": "stream",
          "name": "stdout",
          "text": [
            "1 1 1\n",
            "NO\n"
          ]
        }
      ]
    },
    {
      "cell_type": "markdown",
      "source": [
        "4. Удаление повторяющихся элементов"
      ],
      "metadata": {
        "id": "_VCgrWQrkkOg"
      }
    },
    {
      "cell_type": "code",
      "source": [
        "str1 = \"aaaaawwwsssggg116\"\n",
        "#str1 = input()\n",
        "str2 = \"\"\n",
        "while len(str1) != 0:\n",
        "    str2 = str2 + str1[0]\n",
        "    sptitstring = str1.split(str1[0])\n",
        "    str1 = \"\".join(sptitstring)\n",
        "print(str2)\n",
        "\n"
      ],
      "metadata": {
        "colab": {
          "base_uri": "https://localhost:8080/"
        },
        "id": "acBwTlojrCKM",
        "outputId": "647b992c-9a2c-4489-a58e-81aa2e5189d9"
      },
      "execution_count": null,
      "outputs": [
        {
          "output_type": "stream",
          "name": "stdout",
          "text": [
            "awsg16\n"
          ]
        }
      ]
    },
    {
      "cell_type": "markdown",
      "source": [
        "7. Расчет оценок учеников"
      ],
      "metadata": {
        "id": "yqdAp3ijk3VU"
      }
    },
    {
      "cell_type": "code",
      "source": [
        "str1 = \"2 3 3 3 4, 4 4 4 4 5, 5 5 5 5\"\n",
        "#str1 = input()\n",
        "str_list = str1.split(',')\n",
        "list_of_mean = []\n",
        "for number_str in str_list:\n",
        "    str_scores = number_str.split()\n",
        "    scores = [int(item) for item in str_scores]\n",
        "    mean_s = round(sum(scores)/len(scores))\n",
        "    list_of_mean.append(mean_s) \n",
        "mean_all = round(sum(list_of_mean)/len(list_of_mean))\n",
        "min_all = min(list_of_mean) \n",
        "max_all = max(list_of_mean) \n",
        "print(list_of_mean , mean_all, min_all, max_all)"
      ],
      "metadata": {
        "colab": {
          "base_uri": "https://localhost:8080/"
        },
        "id": "TCPa58TFk09s",
        "outputId": "d0e8a23b-ceea-4cdf-c629-95833c5aec92"
      },
      "execution_count": null,
      "outputs": [
        {
          "output_type": "stream",
          "name": "stdout",
          "text": [
            "[3, 4, 5] 4 3 5\n"
          ]
        }
      ]
    },
    {
      "cell_type": "markdown",
      "source": [
        "14. Поиск упаковок"
      ],
      "metadata": {
        "id": "tqYA_JyYcKFQ"
      }
    },
    {
      "cell_type": "code",
      "source": [
        "str1 = \"(-) [IIIII] [)))))] IuI [lllll] [@@@@@] UwU [IlII] IuI [)))))] x\"\n",
        "#str1 = input()\n",
        "str_list = str1.split()\n",
        "k = 0\n",
        "for pack_str in str_list:\n",
        "    if (pack_str[0] == \"[\") and (len(pack_str) == 7) :\n",
        "        if (pack_str[1:6] == pack_str[1] *5) and (pack_str[6] == \"]\") :\n",
        "            k += 1\n",
        "print(k)"
      ],
      "metadata": {
        "colab": {
          "base_uri": "https://localhost:8080/"
        },
        "id": "MFSodPFwcOKd",
        "outputId": "69b6144a-0f06-4ab7-c953-4a6d9400f6d8"
      },
      "execution_count": null,
      "outputs": [
        {
          "output_type": "stream",
          "name": "stdout",
          "text": [
            "5\n"
          ]
        }
      ]
    },
    {
      "cell_type": "markdown",
      "source": [
        "5. Среднее квадратичное отклонение"
      ],
      "metadata": {
        "id": "nmJhGtZymIpX"
      }
    },
    {
      "cell_type": "code",
      "source": [
        "str1 = \"1 7 6 5 9\"\n",
        "#str1 = input()\n",
        "str_list = str1.split()\n",
        "num_list = [int(item) for item in str_list]\n",
        "avg1 = sum(num_list) / len(num_list)\n",
        "num_list2 = []\n",
        "for number_str in num_list:\n",
        "    num_list2.append((number_str - avg1) ** 2)\n",
        "sko = round((sum(num_list2)/(len(num_list2))) ** 0.5,2)\n",
        "\n",
        "print(sko)\n"
      ],
      "metadata": {
        "colab": {
          "base_uri": "https://localhost:8080/"
        },
        "id": "x5Hn-x_rmCtO",
        "outputId": "53ee6326-85db-4516-e5cc-64661fb27780"
      },
      "execution_count": null,
      "outputs": [
        {
          "output_type": "stream",
          "name": "stdout",
          "text": [
            "2.65\n"
          ]
        }
      ]
    },
    {
      "cell_type": "code",
      "source": [
        "str1 = \"[2, [1, [0]], [3]]\"\n",
        "#str1 = input()\n",
        "str1 = str1.replace(\"[\",\"\")\n",
        "str1 = str1.replace(\"]\",\"\")\n",
        "str_list = str1.split(\",\")\n",
        "list2 = [int(item) for item in str_list]\n",
        "list2 = sorted(list2)\n",
        "print(list2)"
      ],
      "metadata": {
        "colab": {
          "base_uri": "https://localhost:8080/"
        },
        "id": "QsZIHjnD7Eeo",
        "outputId": "95697f74-2709-4c57-e595-792793de1014"
      },
      "execution_count": null,
      "outputs": [
        {
          "output_type": "stream",
          "name": "stdout",
          "text": [
            "[0, 1, 2, 3]\n"
          ]
        }
      ]
    },
    {
      "cell_type": "markdown",
      "source": [
        "9. Сортировка вложенного списка"
      ],
      "metadata": {
        "id": "dGVe6gXWmCVO"
      }
    },
    {
      "cell_type": "code",
      "source": [
        "list1 = \"[2, [1, [0]], [3]]\"\n",
        "#list1 = input()\n",
        "def list_extract(l1):\n",
        "    if l1 == []:\n",
        "        return l1\n",
        "    else:\n",
        "        if isinstance(l1[0], list):\n",
        "            list_len = len(l1)\n",
        "            if (l1[0] != []) and (list_len > 1):\n",
        "                return (list_extract(l1[0]) + list_extract(l1[1:list_len]))\n",
        "            else:\n",
        "                if (l1[0] == []):\n",
        "                    return list_extract(l1[1:list_len])\n",
        "                else:\n",
        "                    return list_extract(l1[0])\n",
        "        else:\n",
        "            list_len = len(l1)\n",
        "            return  (l1[0:1] + list_extract(l1[1:list_len]))\n",
        "list2 = list_extract(list1)\n",
        "list2 = sorted(list2)\n",
        "print(list2)"
      ],
      "metadata": {
        "colab": {
          "base_uri": "https://localhost:8080/",
          "height": 380
        },
        "id": "CTwHPmY76yGZ",
        "outputId": "4216837b-c049-496c-be77-1285580b0641"
      },
      "execution_count": null,
      "outputs": [
        {
          "output_type": "error",
          "ename": "IndexError",
          "evalue": "ignored",
          "traceback": [
            "\u001b[0;31m---------------------------------------------------------------------------\u001b[0m",
            "\u001b[0;31mIndexError\u001b[0m                                Traceback (most recent call last)",
            "\u001b[0;32m<ipython-input-1-d9152f8f2926>\u001b[0m in \u001b[0;36m<module>\u001b[0;34m\u001b[0m\n\u001b[1;32m     17\u001b[0m             \u001b[0mlist_len\u001b[0m \u001b[0;34m=\u001b[0m \u001b[0mlen\u001b[0m\u001b[0;34m(\u001b[0m\u001b[0ml1\u001b[0m\u001b[0;34m)\u001b[0m\u001b[0;34m\u001b[0m\u001b[0;34m\u001b[0m\u001b[0m\n\u001b[1;32m     18\u001b[0m             \u001b[0;32mreturn\u001b[0m  \u001b[0;34m(\u001b[0m\u001b[0ml1\u001b[0m\u001b[0;34m[\u001b[0m\u001b[0;36m0\u001b[0m\u001b[0;34m:\u001b[0m\u001b[0;36m1\u001b[0m\u001b[0;34m]\u001b[0m \u001b[0;34m+\u001b[0m \u001b[0mlist_extract\u001b[0m\u001b[0;34m(\u001b[0m\u001b[0ml1\u001b[0m\u001b[0;34m[\u001b[0m\u001b[0;36m1\u001b[0m\u001b[0;34m:\u001b[0m\u001b[0mlist_len\u001b[0m\u001b[0;34m]\u001b[0m\u001b[0;34m)\u001b[0m\u001b[0;34m)\u001b[0m\u001b[0;34m\u001b[0m\u001b[0;34m\u001b[0m\u001b[0m\n\u001b[0;32m---> 19\u001b[0;31m \u001b[0mlist2\u001b[0m \u001b[0;34m=\u001b[0m \u001b[0mlist_extract\u001b[0m\u001b[0;34m(\u001b[0m\u001b[0mlist1\u001b[0m\u001b[0;34m)\u001b[0m\u001b[0;34m\u001b[0m\u001b[0;34m\u001b[0m\u001b[0m\n\u001b[0m\u001b[1;32m     20\u001b[0m \u001b[0mlist2\u001b[0m \u001b[0;34m=\u001b[0m \u001b[0msorted\u001b[0m\u001b[0;34m(\u001b[0m\u001b[0mlist2\u001b[0m\u001b[0;34m)\u001b[0m\u001b[0;34m\u001b[0m\u001b[0;34m\u001b[0m\u001b[0m\n\u001b[1;32m     21\u001b[0m \u001b[0mprint\u001b[0m\u001b[0;34m(\u001b[0m\u001b[0mlist2\u001b[0m\u001b[0;34m)\u001b[0m\u001b[0;34m\u001b[0m\u001b[0;34m\u001b[0m\u001b[0m\n",
            "\u001b[0;32m<ipython-input-1-d9152f8f2926>\u001b[0m in \u001b[0;36mlist_extract\u001b[0;34m(l1)\u001b[0m\n\u001b[1;32m     16\u001b[0m         \u001b[0;32melse\u001b[0m\u001b[0;34m:\u001b[0m\u001b[0;34m\u001b[0m\u001b[0;34m\u001b[0m\u001b[0m\n\u001b[1;32m     17\u001b[0m             \u001b[0mlist_len\u001b[0m \u001b[0;34m=\u001b[0m \u001b[0mlen\u001b[0m\u001b[0;34m(\u001b[0m\u001b[0ml1\u001b[0m\u001b[0;34m)\u001b[0m\u001b[0;34m\u001b[0m\u001b[0;34m\u001b[0m\u001b[0m\n\u001b[0;32m---> 18\u001b[0;31m             \u001b[0;32mreturn\u001b[0m  \u001b[0;34m(\u001b[0m\u001b[0ml1\u001b[0m\u001b[0;34m[\u001b[0m\u001b[0;36m0\u001b[0m\u001b[0;34m:\u001b[0m\u001b[0;36m1\u001b[0m\u001b[0;34m]\u001b[0m \u001b[0;34m+\u001b[0m \u001b[0mlist_extract\u001b[0m\u001b[0;34m(\u001b[0m\u001b[0ml1\u001b[0m\u001b[0;34m[\u001b[0m\u001b[0;36m1\u001b[0m\u001b[0;34m:\u001b[0m\u001b[0mlist_len\u001b[0m\u001b[0;34m]\u001b[0m\u001b[0;34m)\u001b[0m\u001b[0;34m)\u001b[0m\u001b[0;34m\u001b[0m\u001b[0;34m\u001b[0m\u001b[0m\n\u001b[0m\u001b[1;32m     19\u001b[0m \u001b[0mlist2\u001b[0m \u001b[0;34m=\u001b[0m \u001b[0mlist_extract\u001b[0m\u001b[0;34m(\u001b[0m\u001b[0mlist1\u001b[0m\u001b[0;34m)\u001b[0m\u001b[0;34m\u001b[0m\u001b[0;34m\u001b[0m\u001b[0m\n\u001b[1;32m     20\u001b[0m \u001b[0mlist2\u001b[0m \u001b[0;34m=\u001b[0m \u001b[0msorted\u001b[0m\u001b[0;34m(\u001b[0m\u001b[0mlist2\u001b[0m\u001b[0;34m)\u001b[0m\u001b[0;34m\u001b[0m\u001b[0;34m\u001b[0m\u001b[0m\n",
            "\u001b[0;32m<ipython-input-1-d9152f8f2926>\u001b[0m in \u001b[0;36mlist_extract\u001b[0;34m(l1)\u001b[0m\n\u001b[1;32m     16\u001b[0m         \u001b[0;32melse\u001b[0m\u001b[0;34m:\u001b[0m\u001b[0;34m\u001b[0m\u001b[0;34m\u001b[0m\u001b[0m\n\u001b[1;32m     17\u001b[0m             \u001b[0mlist_len\u001b[0m \u001b[0;34m=\u001b[0m \u001b[0mlen\u001b[0m\u001b[0;34m(\u001b[0m\u001b[0ml1\u001b[0m\u001b[0;34m)\u001b[0m\u001b[0;34m\u001b[0m\u001b[0;34m\u001b[0m\u001b[0m\n\u001b[0;32m---> 18\u001b[0;31m             \u001b[0;32mreturn\u001b[0m  \u001b[0;34m(\u001b[0m\u001b[0ml1\u001b[0m\u001b[0;34m[\u001b[0m\u001b[0;36m0\u001b[0m\u001b[0;34m:\u001b[0m\u001b[0;36m1\u001b[0m\u001b[0;34m]\u001b[0m \u001b[0;34m+\u001b[0m \u001b[0mlist_extract\u001b[0m\u001b[0;34m(\u001b[0m\u001b[0ml1\u001b[0m\u001b[0;34m[\u001b[0m\u001b[0;36m1\u001b[0m\u001b[0;34m:\u001b[0m\u001b[0mlist_len\u001b[0m\u001b[0;34m]\u001b[0m\u001b[0;34m)\u001b[0m\u001b[0;34m)\u001b[0m\u001b[0;34m\u001b[0m\u001b[0;34m\u001b[0m\u001b[0m\n\u001b[0m\u001b[1;32m     19\u001b[0m \u001b[0mlist2\u001b[0m \u001b[0;34m=\u001b[0m \u001b[0mlist_extract\u001b[0m\u001b[0;34m(\u001b[0m\u001b[0mlist1\u001b[0m\u001b[0;34m)\u001b[0m\u001b[0;34m\u001b[0m\u001b[0;34m\u001b[0m\u001b[0m\n\u001b[1;32m     20\u001b[0m \u001b[0mlist2\u001b[0m \u001b[0;34m=\u001b[0m \u001b[0msorted\u001b[0m\u001b[0;34m(\u001b[0m\u001b[0mlist2\u001b[0m\u001b[0;34m)\u001b[0m\u001b[0;34m\u001b[0m\u001b[0;34m\u001b[0m\u001b[0m\n",
            "\u001b[0;32m<ipython-input-1-d9152f8f2926>\u001b[0m in \u001b[0;36mlist_extract\u001b[0;34m(l1)\u001b[0m\n\u001b[1;32m     16\u001b[0m         \u001b[0;32melse\u001b[0m\u001b[0;34m:\u001b[0m\u001b[0;34m\u001b[0m\u001b[0;34m\u001b[0m\u001b[0m\n\u001b[1;32m     17\u001b[0m             \u001b[0mlist_len\u001b[0m \u001b[0;34m=\u001b[0m \u001b[0mlen\u001b[0m\u001b[0;34m(\u001b[0m\u001b[0ml1\u001b[0m\u001b[0;34m)\u001b[0m\u001b[0;34m\u001b[0m\u001b[0;34m\u001b[0m\u001b[0m\n\u001b[0;32m---> 18\u001b[0;31m             \u001b[0;32mreturn\u001b[0m  \u001b[0;34m(\u001b[0m\u001b[0ml1\u001b[0m\u001b[0;34m[\u001b[0m\u001b[0;36m0\u001b[0m\u001b[0;34m:\u001b[0m\u001b[0;36m1\u001b[0m\u001b[0;34m]\u001b[0m \u001b[0;34m+\u001b[0m \u001b[0mlist_extract\u001b[0m\u001b[0;34m(\u001b[0m\u001b[0ml1\u001b[0m\u001b[0;34m[\u001b[0m\u001b[0;36m1\u001b[0m\u001b[0;34m:\u001b[0m\u001b[0mlist_len\u001b[0m\u001b[0;34m]\u001b[0m\u001b[0;34m)\u001b[0m\u001b[0;34m)\u001b[0m\u001b[0;34m\u001b[0m\u001b[0;34m\u001b[0m\u001b[0m\n\u001b[0m\u001b[1;32m     19\u001b[0m \u001b[0mlist2\u001b[0m \u001b[0;34m=\u001b[0m \u001b[0mlist_extract\u001b[0m\u001b[0;34m(\u001b[0m\u001b[0mlist1\u001b[0m\u001b[0;34m)\u001b[0m\u001b[0;34m\u001b[0m\u001b[0;34m\u001b[0m\u001b[0m\n\u001b[1;32m     20\u001b[0m \u001b[0mlist2\u001b[0m \u001b[0;34m=\u001b[0m \u001b[0msorted\u001b[0m\u001b[0;34m(\u001b[0m\u001b[0mlist2\u001b[0m\u001b[0;34m)\u001b[0m\u001b[0;34m\u001b[0m\u001b[0;34m\u001b[0m\u001b[0m\n",
            "\u001b[0;32m<ipython-input-1-d9152f8f2926>\u001b[0m in \u001b[0;36mlist_extract\u001b[0;34m(l1)\u001b[0m\n\u001b[1;32m     16\u001b[0m         \u001b[0;32melse\u001b[0m\u001b[0;34m:\u001b[0m\u001b[0;34m\u001b[0m\u001b[0;34m\u001b[0m\u001b[0m\n\u001b[1;32m     17\u001b[0m             \u001b[0mlist_len\u001b[0m \u001b[0;34m=\u001b[0m \u001b[0mlen\u001b[0m\u001b[0;34m(\u001b[0m\u001b[0ml1\u001b[0m\u001b[0;34m)\u001b[0m\u001b[0;34m\u001b[0m\u001b[0;34m\u001b[0m\u001b[0m\n\u001b[0;32m---> 18\u001b[0;31m             \u001b[0;32mreturn\u001b[0m  \u001b[0;34m(\u001b[0m\u001b[0ml1\u001b[0m\u001b[0;34m[\u001b[0m\u001b[0;36m0\u001b[0m\u001b[0;34m:\u001b[0m\u001b[0;36m1\u001b[0m\u001b[0;34m]\u001b[0m \u001b[0;34m+\u001b[0m \u001b[0mlist_extract\u001b[0m\u001b[0;34m(\u001b[0m\u001b[0ml1\u001b[0m\u001b[0;34m[\u001b[0m\u001b[0;36m1\u001b[0m\u001b[0;34m:\u001b[0m\u001b[0mlist_len\u001b[0m\u001b[0;34m]\u001b[0m\u001b[0;34m)\u001b[0m\u001b[0;34m)\u001b[0m\u001b[0;34m\u001b[0m\u001b[0;34m\u001b[0m\u001b[0m\n\u001b[0m\u001b[1;32m     19\u001b[0m \u001b[0mlist2\u001b[0m \u001b[0;34m=\u001b[0m \u001b[0mlist_extract\u001b[0m\u001b[0;34m(\u001b[0m\u001b[0mlist1\u001b[0m\u001b[0;34m)\u001b[0m\u001b[0;34m\u001b[0m\u001b[0;34m\u001b[0m\u001b[0m\n\u001b[1;32m     20\u001b[0m \u001b[0mlist2\u001b[0m \u001b[0;34m=\u001b[0m \u001b[0msorted\u001b[0m\u001b[0;34m(\u001b[0m\u001b[0mlist2\u001b[0m\u001b[0;34m)\u001b[0m\u001b[0;34m\u001b[0m\u001b[0;34m\u001b[0m\u001b[0m\n",
            "\u001b[0;32m<ipython-input-1-d9152f8f2926>\u001b[0m in \u001b[0;36mlist_extract\u001b[0;34m(l1)\u001b[0m\n\u001b[1;32m     16\u001b[0m         \u001b[0;32melse\u001b[0m\u001b[0;34m:\u001b[0m\u001b[0;34m\u001b[0m\u001b[0;34m\u001b[0m\u001b[0m\n\u001b[1;32m     17\u001b[0m             \u001b[0mlist_len\u001b[0m \u001b[0;34m=\u001b[0m \u001b[0mlen\u001b[0m\u001b[0;34m(\u001b[0m\u001b[0ml1\u001b[0m\u001b[0;34m)\u001b[0m\u001b[0;34m\u001b[0m\u001b[0;34m\u001b[0m\u001b[0m\n\u001b[0;32m---> 18\u001b[0;31m             \u001b[0;32mreturn\u001b[0m  \u001b[0;34m(\u001b[0m\u001b[0ml1\u001b[0m\u001b[0;34m[\u001b[0m\u001b[0;36m0\u001b[0m\u001b[0;34m:\u001b[0m\u001b[0;36m1\u001b[0m\u001b[0;34m]\u001b[0m \u001b[0;34m+\u001b[0m \u001b[0mlist_extract\u001b[0m\u001b[0;34m(\u001b[0m\u001b[0ml1\u001b[0m\u001b[0;34m[\u001b[0m\u001b[0;36m1\u001b[0m\u001b[0;34m:\u001b[0m\u001b[0mlist_len\u001b[0m\u001b[0;34m]\u001b[0m\u001b[0;34m)\u001b[0m\u001b[0;34m)\u001b[0m\u001b[0;34m\u001b[0m\u001b[0;34m\u001b[0m\u001b[0m\n\u001b[0m\u001b[1;32m     19\u001b[0m \u001b[0mlist2\u001b[0m \u001b[0;34m=\u001b[0m \u001b[0mlist_extract\u001b[0m\u001b[0;34m(\u001b[0m\u001b[0mlist1\u001b[0m\u001b[0;34m)\u001b[0m\u001b[0;34m\u001b[0m\u001b[0;34m\u001b[0m\u001b[0m\n\u001b[1;32m     20\u001b[0m \u001b[0mlist2\u001b[0m \u001b[0;34m=\u001b[0m \u001b[0msorted\u001b[0m\u001b[0;34m(\u001b[0m\u001b[0mlist2\u001b[0m\u001b[0;34m)\u001b[0m\u001b[0;34m\u001b[0m\u001b[0;34m\u001b[0m\u001b[0m\n",
            "\u001b[0;32m<ipython-input-1-d9152f8f2926>\u001b[0m in \u001b[0;36mlist_extract\u001b[0;34m(l1)\u001b[0m\n\u001b[1;32m     16\u001b[0m         \u001b[0;32melse\u001b[0m\u001b[0;34m:\u001b[0m\u001b[0;34m\u001b[0m\u001b[0;34m\u001b[0m\u001b[0m\n\u001b[1;32m     17\u001b[0m             \u001b[0mlist_len\u001b[0m \u001b[0;34m=\u001b[0m \u001b[0mlen\u001b[0m\u001b[0;34m(\u001b[0m\u001b[0ml1\u001b[0m\u001b[0;34m)\u001b[0m\u001b[0;34m\u001b[0m\u001b[0;34m\u001b[0m\u001b[0m\n\u001b[0;32m---> 18\u001b[0;31m             \u001b[0;32mreturn\u001b[0m  \u001b[0;34m(\u001b[0m\u001b[0ml1\u001b[0m\u001b[0;34m[\u001b[0m\u001b[0;36m0\u001b[0m\u001b[0;34m:\u001b[0m\u001b[0;36m1\u001b[0m\u001b[0;34m]\u001b[0m \u001b[0;34m+\u001b[0m \u001b[0mlist_extract\u001b[0m\u001b[0;34m(\u001b[0m\u001b[0ml1\u001b[0m\u001b[0;34m[\u001b[0m\u001b[0;36m1\u001b[0m\u001b[0;34m:\u001b[0m\u001b[0mlist_len\u001b[0m\u001b[0;34m]\u001b[0m\u001b[0;34m)\u001b[0m\u001b[0;34m)\u001b[0m\u001b[0;34m\u001b[0m\u001b[0;34m\u001b[0m\u001b[0m\n\u001b[0m\u001b[1;32m     19\u001b[0m \u001b[0mlist2\u001b[0m \u001b[0;34m=\u001b[0m \u001b[0mlist_extract\u001b[0m\u001b[0;34m(\u001b[0m\u001b[0mlist1\u001b[0m\u001b[0;34m)\u001b[0m\u001b[0;34m\u001b[0m\u001b[0;34m\u001b[0m\u001b[0m\n\u001b[1;32m     20\u001b[0m \u001b[0mlist2\u001b[0m \u001b[0;34m=\u001b[0m \u001b[0msorted\u001b[0m\u001b[0;34m(\u001b[0m\u001b[0mlist2\u001b[0m\u001b[0;34m)\u001b[0m\u001b[0;34m\u001b[0m\u001b[0;34m\u001b[0m\u001b[0m\n",
            "\u001b[0;32m<ipython-input-1-d9152f8f2926>\u001b[0m in \u001b[0;36mlist_extract\u001b[0;34m(l1)\u001b[0m\n\u001b[1;32m     16\u001b[0m         \u001b[0;32melse\u001b[0m\u001b[0;34m:\u001b[0m\u001b[0;34m\u001b[0m\u001b[0;34m\u001b[0m\u001b[0m\n\u001b[1;32m     17\u001b[0m             \u001b[0mlist_len\u001b[0m \u001b[0;34m=\u001b[0m \u001b[0mlen\u001b[0m\u001b[0;34m(\u001b[0m\u001b[0ml1\u001b[0m\u001b[0;34m)\u001b[0m\u001b[0;34m\u001b[0m\u001b[0;34m\u001b[0m\u001b[0m\n\u001b[0;32m---> 18\u001b[0;31m             \u001b[0;32mreturn\u001b[0m  \u001b[0;34m(\u001b[0m\u001b[0ml1\u001b[0m\u001b[0;34m[\u001b[0m\u001b[0;36m0\u001b[0m\u001b[0;34m:\u001b[0m\u001b[0;36m1\u001b[0m\u001b[0;34m]\u001b[0m \u001b[0;34m+\u001b[0m \u001b[0mlist_extract\u001b[0m\u001b[0;34m(\u001b[0m\u001b[0ml1\u001b[0m\u001b[0;34m[\u001b[0m\u001b[0;36m1\u001b[0m\u001b[0;34m:\u001b[0m\u001b[0mlist_len\u001b[0m\u001b[0;34m]\u001b[0m\u001b[0;34m)\u001b[0m\u001b[0;34m)\u001b[0m\u001b[0;34m\u001b[0m\u001b[0;34m\u001b[0m\u001b[0m\n\u001b[0m\u001b[1;32m     19\u001b[0m \u001b[0mlist2\u001b[0m \u001b[0;34m=\u001b[0m \u001b[0mlist_extract\u001b[0m\u001b[0;34m(\u001b[0m\u001b[0mlist1\u001b[0m\u001b[0;34m)\u001b[0m\u001b[0;34m\u001b[0m\u001b[0;34m\u001b[0m\u001b[0m\n\u001b[1;32m     20\u001b[0m \u001b[0mlist2\u001b[0m \u001b[0;34m=\u001b[0m \u001b[0msorted\u001b[0m\u001b[0;34m(\u001b[0m\u001b[0mlist2\u001b[0m\u001b[0;34m)\u001b[0m\u001b[0;34m\u001b[0m\u001b[0;34m\u001b[0m\u001b[0m\n",
            "\u001b[0;32m<ipython-input-1-d9152f8f2926>\u001b[0m in \u001b[0;36mlist_extract\u001b[0;34m(l1)\u001b[0m\n\u001b[1;32m     16\u001b[0m         \u001b[0;32melse\u001b[0m\u001b[0;34m:\u001b[0m\u001b[0;34m\u001b[0m\u001b[0;34m\u001b[0m\u001b[0m\n\u001b[1;32m     17\u001b[0m             \u001b[0mlist_len\u001b[0m \u001b[0;34m=\u001b[0m \u001b[0mlen\u001b[0m\u001b[0;34m(\u001b[0m\u001b[0ml1\u001b[0m\u001b[0;34m)\u001b[0m\u001b[0;34m\u001b[0m\u001b[0;34m\u001b[0m\u001b[0m\n\u001b[0;32m---> 18\u001b[0;31m             \u001b[0;32mreturn\u001b[0m  \u001b[0;34m(\u001b[0m\u001b[0ml1\u001b[0m\u001b[0;34m[\u001b[0m\u001b[0;36m0\u001b[0m\u001b[0;34m:\u001b[0m\u001b[0;36m1\u001b[0m\u001b[0;34m]\u001b[0m \u001b[0;34m+\u001b[0m \u001b[0mlist_extract\u001b[0m\u001b[0;34m(\u001b[0m\u001b[0ml1\u001b[0m\u001b[0;34m[\u001b[0m\u001b[0;36m1\u001b[0m\u001b[0;34m:\u001b[0m\u001b[0mlist_len\u001b[0m\u001b[0;34m]\u001b[0m\u001b[0;34m)\u001b[0m\u001b[0;34m)\u001b[0m\u001b[0;34m\u001b[0m\u001b[0;34m\u001b[0m\u001b[0m\n\u001b[0m\u001b[1;32m     19\u001b[0m \u001b[0mlist2\u001b[0m \u001b[0;34m=\u001b[0m \u001b[0mlist_extract\u001b[0m\u001b[0;34m(\u001b[0m\u001b[0mlist1\u001b[0m\u001b[0;34m)\u001b[0m\u001b[0;34m\u001b[0m\u001b[0;34m\u001b[0m\u001b[0m\n\u001b[1;32m     20\u001b[0m \u001b[0mlist2\u001b[0m \u001b[0;34m=\u001b[0m \u001b[0msorted\u001b[0m\u001b[0;34m(\u001b[0m\u001b[0mlist2\u001b[0m\u001b[0;34m)\u001b[0m\u001b[0;34m\u001b[0m\u001b[0;34m\u001b[0m\u001b[0m\n",
            "\u001b[0;32m<ipython-input-1-d9152f8f2926>\u001b[0m in \u001b[0;36mlist_extract\u001b[0;34m(l1)\u001b[0m\n\u001b[1;32m     16\u001b[0m         \u001b[0;32melse\u001b[0m\u001b[0;34m:\u001b[0m\u001b[0;34m\u001b[0m\u001b[0;34m\u001b[0m\u001b[0m\n\u001b[1;32m     17\u001b[0m             \u001b[0mlist_len\u001b[0m \u001b[0;34m=\u001b[0m \u001b[0mlen\u001b[0m\u001b[0;34m(\u001b[0m\u001b[0ml1\u001b[0m\u001b[0;34m)\u001b[0m\u001b[0;34m\u001b[0m\u001b[0;34m\u001b[0m\u001b[0m\n\u001b[0;32m---> 18\u001b[0;31m             \u001b[0;32mreturn\u001b[0m  \u001b[0;34m(\u001b[0m\u001b[0ml1\u001b[0m\u001b[0;34m[\u001b[0m\u001b[0;36m0\u001b[0m\u001b[0;34m:\u001b[0m\u001b[0;36m1\u001b[0m\u001b[0;34m]\u001b[0m \u001b[0;34m+\u001b[0m \u001b[0mlist_extract\u001b[0m\u001b[0;34m(\u001b[0m\u001b[0ml1\u001b[0m\u001b[0;34m[\u001b[0m\u001b[0;36m1\u001b[0m\u001b[0;34m:\u001b[0m\u001b[0mlist_len\u001b[0m\u001b[0;34m]\u001b[0m\u001b[0;34m)\u001b[0m\u001b[0;34m)\u001b[0m\u001b[0;34m\u001b[0m\u001b[0;34m\u001b[0m\u001b[0m\n\u001b[0m\u001b[1;32m     19\u001b[0m \u001b[0mlist2\u001b[0m \u001b[0;34m=\u001b[0m \u001b[0mlist_extract\u001b[0m\u001b[0;34m(\u001b[0m\u001b[0mlist1\u001b[0m\u001b[0;34m)\u001b[0m\u001b[0;34m\u001b[0m\u001b[0;34m\u001b[0m\u001b[0m\n\u001b[1;32m     20\u001b[0m \u001b[0mlist2\u001b[0m \u001b[0;34m=\u001b[0m \u001b[0msorted\u001b[0m\u001b[0;34m(\u001b[0m\u001b[0mlist2\u001b[0m\u001b[0;34m)\u001b[0m\u001b[0;34m\u001b[0m\u001b[0;34m\u001b[0m\u001b[0m\n",
            "\u001b[0;32m<ipython-input-1-d9152f8f2926>\u001b[0m in \u001b[0;36mlist_extract\u001b[0;34m(l1)\u001b[0m\n\u001b[1;32m     16\u001b[0m         \u001b[0;32melse\u001b[0m\u001b[0;34m:\u001b[0m\u001b[0;34m\u001b[0m\u001b[0;34m\u001b[0m\u001b[0m\n\u001b[1;32m     17\u001b[0m             \u001b[0mlist_len\u001b[0m \u001b[0;34m=\u001b[0m \u001b[0mlen\u001b[0m\u001b[0;34m(\u001b[0m\u001b[0ml1\u001b[0m\u001b[0;34m)\u001b[0m\u001b[0;34m\u001b[0m\u001b[0;34m\u001b[0m\u001b[0m\n\u001b[0;32m---> 18\u001b[0;31m             \u001b[0;32mreturn\u001b[0m  \u001b[0;34m(\u001b[0m\u001b[0ml1\u001b[0m\u001b[0;34m[\u001b[0m\u001b[0;36m0\u001b[0m\u001b[0;34m:\u001b[0m\u001b[0;36m1\u001b[0m\u001b[0;34m]\u001b[0m \u001b[0;34m+\u001b[0m \u001b[0mlist_extract\u001b[0m\u001b[0;34m(\u001b[0m\u001b[0ml1\u001b[0m\u001b[0;34m[\u001b[0m\u001b[0;36m1\u001b[0m\u001b[0;34m:\u001b[0m\u001b[0mlist_len\u001b[0m\u001b[0;34m]\u001b[0m\u001b[0;34m)\u001b[0m\u001b[0;34m)\u001b[0m\u001b[0;34m\u001b[0m\u001b[0;34m\u001b[0m\u001b[0m\n\u001b[0m\u001b[1;32m     19\u001b[0m \u001b[0mlist2\u001b[0m \u001b[0;34m=\u001b[0m \u001b[0mlist_extract\u001b[0m\u001b[0;34m(\u001b[0m\u001b[0mlist1\u001b[0m\u001b[0;34m)\u001b[0m\u001b[0;34m\u001b[0m\u001b[0;34m\u001b[0m\u001b[0m\n\u001b[1;32m     20\u001b[0m \u001b[0mlist2\u001b[0m \u001b[0;34m=\u001b[0m \u001b[0msorted\u001b[0m\u001b[0;34m(\u001b[0m\u001b[0mlist2\u001b[0m\u001b[0;34m)\u001b[0m\u001b[0;34m\u001b[0m\u001b[0;34m\u001b[0m\u001b[0m\n",
            "\u001b[0;32m<ipython-input-1-d9152f8f2926>\u001b[0m in \u001b[0;36mlist_extract\u001b[0;34m(l1)\u001b[0m\n\u001b[1;32m     16\u001b[0m         \u001b[0;32melse\u001b[0m\u001b[0;34m:\u001b[0m\u001b[0;34m\u001b[0m\u001b[0;34m\u001b[0m\u001b[0m\n\u001b[1;32m     17\u001b[0m             \u001b[0mlist_len\u001b[0m \u001b[0;34m=\u001b[0m \u001b[0mlen\u001b[0m\u001b[0;34m(\u001b[0m\u001b[0ml1\u001b[0m\u001b[0;34m)\u001b[0m\u001b[0;34m\u001b[0m\u001b[0;34m\u001b[0m\u001b[0m\n\u001b[0;32m---> 18\u001b[0;31m             \u001b[0;32mreturn\u001b[0m  \u001b[0;34m(\u001b[0m\u001b[0ml1\u001b[0m\u001b[0;34m[\u001b[0m\u001b[0;36m0\u001b[0m\u001b[0;34m:\u001b[0m\u001b[0;36m1\u001b[0m\u001b[0;34m]\u001b[0m \u001b[0;34m+\u001b[0m \u001b[0mlist_extract\u001b[0m\u001b[0;34m(\u001b[0m\u001b[0ml1\u001b[0m\u001b[0;34m[\u001b[0m\u001b[0;36m1\u001b[0m\u001b[0;34m:\u001b[0m\u001b[0mlist_len\u001b[0m\u001b[0;34m]\u001b[0m\u001b[0;34m)\u001b[0m\u001b[0;34m)\u001b[0m\u001b[0;34m\u001b[0m\u001b[0;34m\u001b[0m\u001b[0m\n\u001b[0m\u001b[1;32m     19\u001b[0m \u001b[0mlist2\u001b[0m \u001b[0;34m=\u001b[0m \u001b[0mlist_extract\u001b[0m\u001b[0;34m(\u001b[0m\u001b[0mlist1\u001b[0m\u001b[0;34m)\u001b[0m\u001b[0;34m\u001b[0m\u001b[0;34m\u001b[0m\u001b[0m\n\u001b[1;32m     20\u001b[0m \u001b[0mlist2\u001b[0m \u001b[0;34m=\u001b[0m \u001b[0msorted\u001b[0m\u001b[0;34m(\u001b[0m\u001b[0mlist2\u001b[0m\u001b[0;34m)\u001b[0m\u001b[0;34m\u001b[0m\u001b[0;34m\u001b[0m\u001b[0m\n",
            "\u001b[0;32m<ipython-input-1-d9152f8f2926>\u001b[0m in \u001b[0;36mlist_extract\u001b[0;34m(l1)\u001b[0m\n\u001b[1;32m     16\u001b[0m         \u001b[0;32melse\u001b[0m\u001b[0;34m:\u001b[0m\u001b[0;34m\u001b[0m\u001b[0;34m\u001b[0m\u001b[0m\n\u001b[1;32m     17\u001b[0m             \u001b[0mlist_len\u001b[0m \u001b[0;34m=\u001b[0m \u001b[0mlen\u001b[0m\u001b[0;34m(\u001b[0m\u001b[0ml1\u001b[0m\u001b[0;34m)\u001b[0m\u001b[0;34m\u001b[0m\u001b[0;34m\u001b[0m\u001b[0m\n\u001b[0;32m---> 18\u001b[0;31m             \u001b[0;32mreturn\u001b[0m  \u001b[0;34m(\u001b[0m\u001b[0ml1\u001b[0m\u001b[0;34m[\u001b[0m\u001b[0;36m0\u001b[0m\u001b[0;34m:\u001b[0m\u001b[0;36m1\u001b[0m\u001b[0;34m]\u001b[0m \u001b[0;34m+\u001b[0m \u001b[0mlist_extract\u001b[0m\u001b[0;34m(\u001b[0m\u001b[0ml1\u001b[0m\u001b[0;34m[\u001b[0m\u001b[0;36m1\u001b[0m\u001b[0;34m:\u001b[0m\u001b[0mlist_len\u001b[0m\u001b[0;34m]\u001b[0m\u001b[0;34m)\u001b[0m\u001b[0;34m)\u001b[0m\u001b[0;34m\u001b[0m\u001b[0;34m\u001b[0m\u001b[0m\n\u001b[0m\u001b[1;32m     19\u001b[0m \u001b[0mlist2\u001b[0m \u001b[0;34m=\u001b[0m \u001b[0mlist_extract\u001b[0m\u001b[0;34m(\u001b[0m\u001b[0mlist1\u001b[0m\u001b[0;34m)\u001b[0m\u001b[0;34m\u001b[0m\u001b[0;34m\u001b[0m\u001b[0m\n\u001b[1;32m     20\u001b[0m \u001b[0mlist2\u001b[0m \u001b[0;34m=\u001b[0m \u001b[0msorted\u001b[0m\u001b[0;34m(\u001b[0m\u001b[0mlist2\u001b[0m\u001b[0;34m)\u001b[0m\u001b[0;34m\u001b[0m\u001b[0;34m\u001b[0m\u001b[0m\n",
            "\u001b[0;32m<ipython-input-1-d9152f8f2926>\u001b[0m in \u001b[0;36mlist_extract\u001b[0;34m(l1)\u001b[0m\n\u001b[1;32m     16\u001b[0m         \u001b[0;32melse\u001b[0m\u001b[0;34m:\u001b[0m\u001b[0;34m\u001b[0m\u001b[0;34m\u001b[0m\u001b[0m\n\u001b[1;32m     17\u001b[0m             \u001b[0mlist_len\u001b[0m \u001b[0;34m=\u001b[0m \u001b[0mlen\u001b[0m\u001b[0;34m(\u001b[0m\u001b[0ml1\u001b[0m\u001b[0;34m)\u001b[0m\u001b[0;34m\u001b[0m\u001b[0;34m\u001b[0m\u001b[0m\n\u001b[0;32m---> 18\u001b[0;31m             \u001b[0;32mreturn\u001b[0m  \u001b[0;34m(\u001b[0m\u001b[0ml1\u001b[0m\u001b[0;34m[\u001b[0m\u001b[0;36m0\u001b[0m\u001b[0;34m:\u001b[0m\u001b[0;36m1\u001b[0m\u001b[0;34m]\u001b[0m \u001b[0;34m+\u001b[0m \u001b[0mlist_extract\u001b[0m\u001b[0;34m(\u001b[0m\u001b[0ml1\u001b[0m\u001b[0;34m[\u001b[0m\u001b[0;36m1\u001b[0m\u001b[0;34m:\u001b[0m\u001b[0mlist_len\u001b[0m\u001b[0;34m]\u001b[0m\u001b[0;34m)\u001b[0m\u001b[0;34m)\u001b[0m\u001b[0;34m\u001b[0m\u001b[0;34m\u001b[0m\u001b[0m\n\u001b[0m\u001b[1;32m     19\u001b[0m \u001b[0mlist2\u001b[0m \u001b[0;34m=\u001b[0m \u001b[0mlist_extract\u001b[0m\u001b[0;34m(\u001b[0m\u001b[0mlist1\u001b[0m\u001b[0;34m)\u001b[0m\u001b[0;34m\u001b[0m\u001b[0;34m\u001b[0m\u001b[0m\n\u001b[1;32m     20\u001b[0m \u001b[0mlist2\u001b[0m \u001b[0;34m=\u001b[0m \u001b[0msorted\u001b[0m\u001b[0;34m(\u001b[0m\u001b[0mlist2\u001b[0m\u001b[0;34m)\u001b[0m\u001b[0;34m\u001b[0m\u001b[0;34m\u001b[0m\u001b[0m\n",
            "\u001b[0;32m<ipython-input-1-d9152f8f2926>\u001b[0m in \u001b[0;36mlist_extract\u001b[0;34m(l1)\u001b[0m\n\u001b[1;32m     16\u001b[0m         \u001b[0;32melse\u001b[0m\u001b[0;34m:\u001b[0m\u001b[0;34m\u001b[0m\u001b[0;34m\u001b[0m\u001b[0m\n\u001b[1;32m     17\u001b[0m             \u001b[0mlist_len\u001b[0m \u001b[0;34m=\u001b[0m \u001b[0mlen\u001b[0m\u001b[0;34m(\u001b[0m\u001b[0ml1\u001b[0m\u001b[0;34m)\u001b[0m\u001b[0;34m\u001b[0m\u001b[0;34m\u001b[0m\u001b[0m\n\u001b[0;32m---> 18\u001b[0;31m             \u001b[0;32mreturn\u001b[0m  \u001b[0;34m(\u001b[0m\u001b[0ml1\u001b[0m\u001b[0;34m[\u001b[0m\u001b[0;36m0\u001b[0m\u001b[0;34m:\u001b[0m\u001b[0;36m1\u001b[0m\u001b[0;34m]\u001b[0m \u001b[0;34m+\u001b[0m \u001b[0mlist_extract\u001b[0m\u001b[0;34m(\u001b[0m\u001b[0ml1\u001b[0m\u001b[0;34m[\u001b[0m\u001b[0;36m1\u001b[0m\u001b[0;34m:\u001b[0m\u001b[0mlist_len\u001b[0m\u001b[0;34m]\u001b[0m\u001b[0;34m)\u001b[0m\u001b[0;34m)\u001b[0m\u001b[0;34m\u001b[0m\u001b[0;34m\u001b[0m\u001b[0m\n\u001b[0m\u001b[1;32m     19\u001b[0m \u001b[0mlist2\u001b[0m \u001b[0;34m=\u001b[0m \u001b[0mlist_extract\u001b[0m\u001b[0;34m(\u001b[0m\u001b[0mlist1\u001b[0m\u001b[0;34m)\u001b[0m\u001b[0;34m\u001b[0m\u001b[0;34m\u001b[0m\u001b[0m\n\u001b[1;32m     20\u001b[0m \u001b[0mlist2\u001b[0m \u001b[0;34m=\u001b[0m \u001b[0msorted\u001b[0m\u001b[0;34m(\u001b[0m\u001b[0mlist2\u001b[0m\u001b[0;34m)\u001b[0m\u001b[0;34m\u001b[0m\u001b[0;34m\u001b[0m\u001b[0m\n",
            "\u001b[0;32m<ipython-input-1-d9152f8f2926>\u001b[0m in \u001b[0;36mlist_extract\u001b[0;34m(l1)\u001b[0m\n\u001b[1;32m     16\u001b[0m         \u001b[0;32melse\u001b[0m\u001b[0;34m:\u001b[0m\u001b[0;34m\u001b[0m\u001b[0;34m\u001b[0m\u001b[0m\n\u001b[1;32m     17\u001b[0m             \u001b[0mlist_len\u001b[0m \u001b[0;34m=\u001b[0m \u001b[0mlen\u001b[0m\u001b[0;34m(\u001b[0m\u001b[0ml1\u001b[0m\u001b[0;34m)\u001b[0m\u001b[0;34m\u001b[0m\u001b[0;34m\u001b[0m\u001b[0m\n\u001b[0;32m---> 18\u001b[0;31m             \u001b[0;32mreturn\u001b[0m  \u001b[0;34m(\u001b[0m\u001b[0ml1\u001b[0m\u001b[0;34m[\u001b[0m\u001b[0;36m0\u001b[0m\u001b[0;34m:\u001b[0m\u001b[0;36m1\u001b[0m\u001b[0;34m]\u001b[0m \u001b[0;34m+\u001b[0m \u001b[0mlist_extract\u001b[0m\u001b[0;34m(\u001b[0m\u001b[0ml1\u001b[0m\u001b[0;34m[\u001b[0m\u001b[0;36m1\u001b[0m\u001b[0;34m:\u001b[0m\u001b[0mlist_len\u001b[0m\u001b[0;34m]\u001b[0m\u001b[0;34m)\u001b[0m\u001b[0;34m)\u001b[0m\u001b[0;34m\u001b[0m\u001b[0;34m\u001b[0m\u001b[0m\n\u001b[0m\u001b[1;32m     19\u001b[0m \u001b[0mlist2\u001b[0m \u001b[0;34m=\u001b[0m \u001b[0mlist_extract\u001b[0m\u001b[0;34m(\u001b[0m\u001b[0mlist1\u001b[0m\u001b[0;34m)\u001b[0m\u001b[0;34m\u001b[0m\u001b[0;34m\u001b[0m\u001b[0m\n\u001b[1;32m     20\u001b[0m \u001b[0mlist2\u001b[0m \u001b[0;34m=\u001b[0m \u001b[0msorted\u001b[0m\u001b[0;34m(\u001b[0m\u001b[0mlist2\u001b[0m\u001b[0;34m)\u001b[0m\u001b[0;34m\u001b[0m\u001b[0;34m\u001b[0m\u001b[0m\n",
            "\u001b[0;32m<ipython-input-1-d9152f8f2926>\u001b[0m in \u001b[0;36mlist_extract\u001b[0;34m(l1)\u001b[0m\n\u001b[1;32m     16\u001b[0m         \u001b[0;32melse\u001b[0m\u001b[0;34m:\u001b[0m\u001b[0;34m\u001b[0m\u001b[0;34m\u001b[0m\u001b[0m\n\u001b[1;32m     17\u001b[0m             \u001b[0mlist_len\u001b[0m \u001b[0;34m=\u001b[0m \u001b[0mlen\u001b[0m\u001b[0;34m(\u001b[0m\u001b[0ml1\u001b[0m\u001b[0;34m)\u001b[0m\u001b[0;34m\u001b[0m\u001b[0;34m\u001b[0m\u001b[0m\n\u001b[0;32m---> 18\u001b[0;31m             \u001b[0;32mreturn\u001b[0m  \u001b[0;34m(\u001b[0m\u001b[0ml1\u001b[0m\u001b[0;34m[\u001b[0m\u001b[0;36m0\u001b[0m\u001b[0;34m:\u001b[0m\u001b[0;36m1\u001b[0m\u001b[0;34m]\u001b[0m \u001b[0;34m+\u001b[0m \u001b[0mlist_extract\u001b[0m\u001b[0;34m(\u001b[0m\u001b[0ml1\u001b[0m\u001b[0;34m[\u001b[0m\u001b[0;36m1\u001b[0m\u001b[0;34m:\u001b[0m\u001b[0mlist_len\u001b[0m\u001b[0;34m]\u001b[0m\u001b[0;34m)\u001b[0m\u001b[0;34m)\u001b[0m\u001b[0;34m\u001b[0m\u001b[0;34m\u001b[0m\u001b[0m\n\u001b[0m\u001b[1;32m     19\u001b[0m \u001b[0mlist2\u001b[0m \u001b[0;34m=\u001b[0m \u001b[0mlist_extract\u001b[0m\u001b[0;34m(\u001b[0m\u001b[0mlist1\u001b[0m\u001b[0;34m)\u001b[0m\u001b[0;34m\u001b[0m\u001b[0;34m\u001b[0m\u001b[0m\n\u001b[1;32m     20\u001b[0m \u001b[0mlist2\u001b[0m \u001b[0;34m=\u001b[0m \u001b[0msorted\u001b[0m\u001b[0;34m(\u001b[0m\u001b[0mlist2\u001b[0m\u001b[0;34m)\u001b[0m\u001b[0;34m\u001b[0m\u001b[0;34m\u001b[0m\u001b[0m\n",
            "\u001b[0;32m<ipython-input-1-d9152f8f2926>\u001b[0m in \u001b[0;36mlist_extract\u001b[0;34m(l1)\u001b[0m\n\u001b[1;32m     16\u001b[0m         \u001b[0;32melse\u001b[0m\u001b[0;34m:\u001b[0m\u001b[0;34m\u001b[0m\u001b[0;34m\u001b[0m\u001b[0m\n\u001b[1;32m     17\u001b[0m             \u001b[0mlist_len\u001b[0m \u001b[0;34m=\u001b[0m \u001b[0mlen\u001b[0m\u001b[0;34m(\u001b[0m\u001b[0ml1\u001b[0m\u001b[0;34m)\u001b[0m\u001b[0;34m\u001b[0m\u001b[0;34m\u001b[0m\u001b[0m\n\u001b[0;32m---> 18\u001b[0;31m             \u001b[0;32mreturn\u001b[0m  \u001b[0;34m(\u001b[0m\u001b[0ml1\u001b[0m\u001b[0;34m[\u001b[0m\u001b[0;36m0\u001b[0m\u001b[0;34m:\u001b[0m\u001b[0;36m1\u001b[0m\u001b[0;34m]\u001b[0m \u001b[0;34m+\u001b[0m \u001b[0mlist_extract\u001b[0m\u001b[0;34m(\u001b[0m\u001b[0ml1\u001b[0m\u001b[0;34m[\u001b[0m\u001b[0;36m1\u001b[0m\u001b[0;34m:\u001b[0m\u001b[0mlist_len\u001b[0m\u001b[0;34m]\u001b[0m\u001b[0;34m)\u001b[0m\u001b[0;34m)\u001b[0m\u001b[0;34m\u001b[0m\u001b[0;34m\u001b[0m\u001b[0m\n\u001b[0m\u001b[1;32m     19\u001b[0m \u001b[0mlist2\u001b[0m \u001b[0;34m=\u001b[0m \u001b[0mlist_extract\u001b[0m\u001b[0;34m(\u001b[0m\u001b[0mlist1\u001b[0m\u001b[0;34m)\u001b[0m\u001b[0;34m\u001b[0m\u001b[0;34m\u001b[0m\u001b[0m\n\u001b[1;32m     20\u001b[0m \u001b[0mlist2\u001b[0m \u001b[0;34m=\u001b[0m \u001b[0msorted\u001b[0m\u001b[0;34m(\u001b[0m\u001b[0mlist2\u001b[0m\u001b[0;34m)\u001b[0m\u001b[0;34m\u001b[0m\u001b[0;34m\u001b[0m\u001b[0m\n",
            "\u001b[0;32m<ipython-input-1-d9152f8f2926>\u001b[0m in \u001b[0;36mlist_extract\u001b[0;34m(l1)\u001b[0m\n\u001b[1;32m     16\u001b[0m         \u001b[0;32melse\u001b[0m\u001b[0;34m:\u001b[0m\u001b[0;34m\u001b[0m\u001b[0;34m\u001b[0m\u001b[0m\n\u001b[1;32m     17\u001b[0m             \u001b[0mlist_len\u001b[0m \u001b[0;34m=\u001b[0m \u001b[0mlen\u001b[0m\u001b[0;34m(\u001b[0m\u001b[0ml1\u001b[0m\u001b[0;34m)\u001b[0m\u001b[0;34m\u001b[0m\u001b[0;34m\u001b[0m\u001b[0m\n\u001b[0;32m---> 18\u001b[0;31m             \u001b[0;32mreturn\u001b[0m  \u001b[0;34m(\u001b[0m\u001b[0ml1\u001b[0m\u001b[0;34m[\u001b[0m\u001b[0;36m0\u001b[0m\u001b[0;34m:\u001b[0m\u001b[0;36m1\u001b[0m\u001b[0;34m]\u001b[0m \u001b[0;34m+\u001b[0m \u001b[0mlist_extract\u001b[0m\u001b[0;34m(\u001b[0m\u001b[0ml1\u001b[0m\u001b[0;34m[\u001b[0m\u001b[0;36m1\u001b[0m\u001b[0;34m:\u001b[0m\u001b[0mlist_len\u001b[0m\u001b[0;34m]\u001b[0m\u001b[0;34m)\u001b[0m\u001b[0;34m)\u001b[0m\u001b[0;34m\u001b[0m\u001b[0;34m\u001b[0m\u001b[0m\n\u001b[0m\u001b[1;32m     19\u001b[0m \u001b[0mlist2\u001b[0m \u001b[0;34m=\u001b[0m \u001b[0mlist_extract\u001b[0m\u001b[0;34m(\u001b[0m\u001b[0mlist1\u001b[0m\u001b[0;34m)\u001b[0m\u001b[0;34m\u001b[0m\u001b[0;34m\u001b[0m\u001b[0m\n\u001b[1;32m     20\u001b[0m \u001b[0mlist2\u001b[0m \u001b[0;34m=\u001b[0m \u001b[0msorted\u001b[0m\u001b[0;34m(\u001b[0m\u001b[0mlist2\u001b[0m\u001b[0;34m)\u001b[0m\u001b[0;34m\u001b[0m\u001b[0;34m\u001b[0m\u001b[0m\n",
            "\u001b[0;32m<ipython-input-1-d9152f8f2926>\u001b[0m in \u001b[0;36mlist_extract\u001b[0;34m(l1)\u001b[0m\n\u001b[1;32m      5\u001b[0m         \u001b[0;32mreturn\u001b[0m \u001b[0ml1\u001b[0m\u001b[0;34m\u001b[0m\u001b[0;34m\u001b[0m\u001b[0m\n\u001b[1;32m      6\u001b[0m     \u001b[0;32melse\u001b[0m\u001b[0;34m:\u001b[0m\u001b[0;34m\u001b[0m\u001b[0;34m\u001b[0m\u001b[0m\n\u001b[0;32m----> 7\u001b[0;31m         \u001b[0;32mif\u001b[0m \u001b[0misinstance\u001b[0m\u001b[0;34m(\u001b[0m\u001b[0ml1\u001b[0m\u001b[0;34m[\u001b[0m\u001b[0;36m0\u001b[0m\u001b[0;34m]\u001b[0m\u001b[0;34m,\u001b[0m \u001b[0mlist\u001b[0m\u001b[0;34m)\u001b[0m\u001b[0;34m:\u001b[0m\u001b[0;34m\u001b[0m\u001b[0;34m\u001b[0m\u001b[0m\n\u001b[0m\u001b[1;32m      8\u001b[0m             \u001b[0mlist_len\u001b[0m \u001b[0;34m=\u001b[0m \u001b[0mlen\u001b[0m\u001b[0;34m(\u001b[0m\u001b[0ml1\u001b[0m\u001b[0;34m)\u001b[0m\u001b[0;34m\u001b[0m\u001b[0;34m\u001b[0m\u001b[0m\n\u001b[1;32m      9\u001b[0m             \u001b[0;32mif\u001b[0m \u001b[0;34m(\u001b[0m\u001b[0ml1\u001b[0m\u001b[0;34m[\u001b[0m\u001b[0;36m0\u001b[0m\u001b[0;34m]\u001b[0m \u001b[0;34m!=\u001b[0m \u001b[0;34m[\u001b[0m\u001b[0;34m]\u001b[0m\u001b[0;34m)\u001b[0m \u001b[0;32mand\u001b[0m \u001b[0;34m(\u001b[0m\u001b[0mlist_len\u001b[0m \u001b[0;34m>\u001b[0m \u001b[0;36m1\u001b[0m\u001b[0;34m)\u001b[0m\u001b[0;34m:\u001b[0m\u001b[0;34m\u001b[0m\u001b[0;34m\u001b[0m\u001b[0m\n",
            "\u001b[0;31mIndexError\u001b[0m: string index out of range"
          ]
        }
      ]
    },
    {
      "cell_type": "code",
      "source": [
        "def factorial_recursive(n):\n",
        "    if n == 1:\n",
        "        return n\n",
        "    else:\n",
        "        return n*factorial_recursive(n-1)\n",
        "print(factorial_recursive(5))"
      ],
      "metadata": {
        "colab": {
          "base_uri": "https://localhost:8080/"
        },
        "id": "ozEtSLM66x0I",
        "outputId": "1251ae09-9555-4c92-b619-7fbacdb2990d"
      },
      "execution_count": null,
      "outputs": [
        {
          "output_type": "stream",
          "name": "stdout",
          "text": [
            "120\n"
          ]
        }
      ]
    },
    {
      "cell_type": "code",
      "source": [
        "aa = [6]\n",
        "ff = []\n",
        "dd = []\n",
        "ee = aa+ ff + dd\n",
        "print (ee)"
      ],
      "metadata": {
        "colab": {
          "base_uri": "https://localhost:8080/"
        },
        "id": "KzQvy1y_QuCm",
        "outputId": "6ec1287e-372a-4902-ced8-bdc3149161d0"
      },
      "execution_count": null,
      "outputs": [
        {
          "output_type": "stream",
          "name": "stdout",
          "text": [
            "[6]\n"
          ]
        }
      ]
    },
    {
      "cell_type": "markdown",
      "source": [
        "12. Распознать мебель на рисунке *"
      ],
      "metadata": {
        "id": "kLezD65RY8vR"
      }
    },
    {
      "cell_type": "code",
      "source": [
        "import numpy as np\n",
        "str1 = input()\n",
        "str_list = str1.split()\n",
        "num_list = [int(item) for item in str_list]\n",
        "n_col = num_list[1]\n",
        "n_row = num_list[0]\n",
        "M = np.empty((0, n_col), int)\n",
        "Z1 = np.zeros((n_row,1),int)\n",
        "for jj in range(n_row):\n",
        "    str3=input()\n",
        "    lst = str3.split()\n",
        "    num_list = [int(item) for item in lst]\n",
        "    arr_str = np.asarray(num_list)\n",
        "    M = np.append(M, [arr_str], axis=0)\n",
        "M = np.column_stack((M, Z1))\n",
        "current_width = 0\n",
        "current_height = 0\n",
        "for i in range(n_col + 1):\n",
        "    if M[n_row -1 ][i] == 1:\n",
        "        current_width += 1\n",
        "    else:\n",
        "        if current_width != 0:\n",
        "            cur_row = n_row - 1\n",
        "            current_height = 0\n",
        "            while ((M[cur_row][i-1]) == 1) and (cur_row >= 0):\n",
        "                current_height +=1\n",
        "                cur_row -= 1\n",
        "            if (current_width == current_height):\n",
        "                print(\"ТУМБОЧКА\")\n",
        "            else:\n",
        "                if (current_width > current_height):\n",
        "                    print(\"СТОЛ\")\n",
        "                else:\n",
        "                    print(\"ШКАФ\")\n",
        "            current_width = 0"
      ],
      "metadata": {
        "colab": {
          "base_uri": "https://localhost:8080/"
        },
        "id": "3RURoRmEY8Rh",
        "outputId": "d4676426-9dab-44a8-b42f-0de324b3bc5a"
      },
      "execution_count": null,
      "outputs": [
        {
          "output_type": "stream",
          "name": "stdout",
          "text": [
            "-6\n"
          ]
        }
      ]
    },
    {
      "cell_type": "markdown",
      "source": [
        "2. Удаление из очереди"
      ],
      "metadata": {
        "id": "XjDrnIEVT2Ga"
      }
    },
    {
      "cell_type": "code",
      "source": [
        "str1 = \"4 5 6 7 12 9 45 2 2\"\n",
        "str2 = \"2\"\n",
        "import queue\n",
        "#str1 = input()\n",
        "#str2 = input()\n",
        "last_el = int(str2)\n",
        "q = queue.Queue()\n",
        "str_list = str1.split()\n",
        "for number_str in str_list:\n",
        "    q.put(int(number_str))\n",
        "anws1 = []\n",
        "while not q.empty():\n",
        "    cur_el = q.get()\n",
        "    if ((cur_el % last_el) != 0):\n",
        "        anws1.append(cur_el)\n",
        "print(anws1)\n",
        "\n",
        "\n",
        "\n",
        "\n"
      ],
      "metadata": {
        "colab": {
          "base_uri": "https://localhost:8080/"
        },
        "id": "EwzNAWh4T1yK",
        "outputId": "6ad03e34-38d6-4bdc-dd85-9cf6ef0e886f"
      },
      "execution_count": null,
      "outputs": [
        {
          "output_type": "stream",
          "name": "stdout",
          "text": [
            "2\n",
            "[5, 7, 9, 45]\n"
          ]
        }
      ]
    },
    {
      "cell_type": "markdown",
      "source": [],
      "metadata": {
        "id": "dTFZkihPnME4"
      }
    },
    {
      "cell_type": "code",
      "source": [
        "#str1 = \"3 (2, “Car”) (1, “Cat”) (2, “Motorcycle”) 2\"\n",
        "#el_list = [(2, \"Car\"), (1, \"Cat\"), (2, \"Motorcycle\"), (1, \"Cyrcle\")]\n",
        "import queue\n",
        "str1 = input()\n",
        "k = int(str1[0:str1.find(\"(\")])\n",
        "c = str1[(str1.rfind(\")\")+2):(len(str1))]\n",
        "str2 = str1[(str1.find(\"(\")+1):(str1.rfind(\")\"))]\n",
        "el_list1 = str2.split(\") (\")\n",
        "q1 = queue.PriorityQueue()\n",
        "q2 = queue.PriorityQueue()\n",
        "for item in el_list1:\n",
        "    pr = item.split(\",\")\n",
        "    if pr[0] == c:\n",
        "        q1.put(\"(\"+item+\")\")\n",
        "    else:\n",
        "        q2.put(\"(\"+item+\")\")\n",
        "while not q1.empty ():\n",
        "    print(q1.get())\n"
      ],
      "metadata": {
        "id": "G6om6Ee8mqnK",
        "colab": {
          "base_uri": "https://localhost:8080/"
        },
        "outputId": "a4e63c0c-f985-4576-b809-133088224811"
      },
      "execution_count": null,
      "outputs": [
        {
          "output_type": "stream",
          "name": "stdout",
          "text": [
            "['2, “Car”', '1, “Cat”', '2, “Motorcycle”']\n",
            "(2, “Car”)\n",
            "(2, “Motorcycle”)\n"
          ]
        }
      ]
    },
    {
      "cell_type": "code",
      "source": [
        "import queue\n",
        "#k = int(input())\n",
        "q1 = queue.PriorityQueue()\n",
        "with open(\"C:\\TEMP\\inp11.txt\", \"r\") as f:\n",
        "    for line in f:\n",
        "        q1.put(line)\n",
        "#for i in range k\n",
        "#    str3=input()\n"
      ],
      "metadata": {
        "colab": {
          "base_uri": "https://localhost:8080/",
          "height": 235
        },
        "id": "D6Tde-bb8MHw",
        "outputId": "b84830c2-d183-43ee-8019-957db657a87d"
      },
      "execution_count": null,
      "outputs": [
        {
          "output_type": "error",
          "ename": "FileNotFoundError",
          "evalue": "ignored",
          "traceback": [
            "\u001b[0;31m---------------------------------------------------------------------------\u001b[0m",
            "\u001b[0;31mFileNotFoundError\u001b[0m                         Traceback (most recent call last)",
            "\u001b[0;32m<ipython-input-8-bd44765c751c>\u001b[0m in \u001b[0;36m<module>\u001b[0;34m\u001b[0m\n\u001b[1;32m      3\u001b[0m \u001b[0mq1\u001b[0m \u001b[0;34m=\u001b[0m \u001b[0mqueue\u001b[0m\u001b[0;34m.\u001b[0m\u001b[0mPriorityQueue\u001b[0m\u001b[0;34m(\u001b[0m\u001b[0;34m)\u001b[0m\u001b[0;34m\u001b[0m\u001b[0;34m\u001b[0m\u001b[0m\n\u001b[1;32m      4\u001b[0m \u001b[0;34m\u001b[0m\u001b[0m\n\u001b[0;32m----> 5\u001b[0;31m \u001b[0;32mwith\u001b[0m \u001b[0mopen\u001b[0m\u001b[0;34m(\u001b[0m\u001b[0;34m\"C:\\TEMP\\inp11.txt\"\u001b[0m\u001b[0;34m,\u001b[0m \u001b[0;34m\"r\"\u001b[0m\u001b[0;34m)\u001b[0m \u001b[0;32mas\u001b[0m \u001b[0mf\u001b[0m\u001b[0;34m:\u001b[0m\u001b[0;34m\u001b[0m\u001b[0;34m\u001b[0m\u001b[0m\n\u001b[0m\u001b[1;32m      6\u001b[0m     \u001b[0;32mfor\u001b[0m \u001b[0mline\u001b[0m \u001b[0;32min\u001b[0m \u001b[0mf\u001b[0m\u001b[0;34m:\u001b[0m\u001b[0;34m\u001b[0m\u001b[0;34m\u001b[0m\u001b[0m\n\u001b[1;32m      7\u001b[0m         \u001b[0mq1\u001b[0m\u001b[0;34m.\u001b[0m\u001b[0mput\u001b[0m\u001b[0;34m(\u001b[0m\u001b[0mline\u001b[0m\u001b[0;34m)\u001b[0m\u001b[0;34m\u001b[0m\u001b[0;34m\u001b[0m\u001b[0m\n",
            "\u001b[0;31mFileNotFoundError\u001b[0m: [Errno 2] No such file or directory: 'C:\\\\TEMP\\\\inp11.txt'"
          ]
        }
      ]
    },
    {
      "cell_type": "markdown",
      "source": [],
      "metadata": {
        "id": "Xh4UYI2NmqZU"
      }
    },
    {
      "cell_type": "markdown",
      "source": [
        " Дана строка, состоящая ровно из двух слов, разделенных пробелом. Переставьте эти слова местами. Результат запишите в строку и выведите получившуюся строку. "
      ],
      "metadata": {
        "id": "ImPIjtiW6OM1"
      }
    },
    {
      "cell_type": "code",
      "source": [
        "str1 = input() \n",
        "str2 = str1.split(\" \")[1] + \" \" + str1.split(\" \")[0]\n",
        "print(str2)"
      ],
      "metadata": {
        "colab": {
          "base_uri": "https://localhost:8080/"
        },
        "id": "ADMjJrcJ8w9m",
        "outputId": "2dcca763-4a89-480e-963c-eccf345aa63b"
      },
      "execution_count": null,
      "outputs": [
        {
          "output_type": "stream",
          "name": "stdout",
          "text": [
            "Вова Лямкин\n",
            "Лямкин Вова\n"
          ]
        }
      ]
    },
    {
      "cell_type": "markdown",
      "source": [],
      "metadata": {
        "id": "NMBrOKtm8wh2"
      }
    },
    {
      "cell_type": "code",
      "source": [
        "str1 = input() \n",
        "#str1 = \"4AB5C4D\" \n",
        "str2 = \"\" \n",
        "begin_kp = 0 \n",
        "for i in range(0,len(str1)): \n",
        "    if str1[i].isalpha(): \n",
        "        if (i - begin_kp) == 0: \n",
        "            str2 = str2 + str1[i] \n",
        "            begin_kp =  i + 1 \n",
        "        else: \n",
        "            kp = int(str1[begin_kp:i]) \n",
        "            str2 = str2 +  str1[i]*kp \n",
        "            begin_kp =  i + 1 \n",
        "print(str2)"
      ],
      "metadata": {
        "id": "n5_Qqlcl8nhJ"
      },
      "execution_count": null,
      "outputs": []
    },
    {
      "cell_type": "markdown",
      "source": [
        "4. Дан список чисел. Определите, сколько в нем встречается различных чисел. "
      ],
      "metadata": {
        "id": "-6G3OcTu8nNf"
      }
    },
    {
      "cell_type": "code",
      "source": [
        "str1 = input() \n",
        "list1 = str1.split(\" \")\n",
        "print(\"Различный чисел в списке :\", len(set(list1)))"
      ],
      "metadata": {
        "colab": {
          "base_uri": "https://localhost:8080/"
        },
        "id": "rQb1JaT66P3V",
        "outputId": "61598697-4231-46ed-923b-253d1dcb04a1"
      },
      "execution_count": null,
      "outputs": [
        {
          "output_type": "stream",
          "name": "stdout",
          "text": [
            "4 3 4 3 4 4 4 4 4 3 3 3 3\n",
            "Различный чисел в списке : 2\n"
          ]
        }
      ]
    },
    {
      "cell_type": "code",
      "source": [
        "import random\n",
        "list1 =  [int(random.uniform(-300,1501)) for i in range(25)]\n",
        "list2 =  [int(random.uniform(-100,1501)) for i in range(25)]\n",
        "f = False\n",
        "print(list1)\n",
        "print(list2)\n",
        "list1.sort()\n",
        "list2.sort(reverse = True)\n",
        "i = j = 0\n",
        "while i < len(list1):\n",
        "    while (j < len(list2)) and (list1[i]+list2[j] >= 1500):\n",
        "        if list1[i]+list2[j] == 1500:\n",
        "            print(\"Можно получить 1500 взяв из первого списка \", list1[i],\" и из второго списка\", list2[j])\n",
        "            f = True\n",
        "            break\n",
        "        j += 1\n",
        "    if f: \n",
        "        break \n",
        "    i += 1\n",
        "    j = 0\n",
        "else:\n",
        "   print(\"Нельзя получить 1500 сложением двух чисел из этих списков \") "
      ],
      "metadata": {
        "colab": {
          "base_uri": "https://localhost:8080/"
        },
        "id": "RqJZCXAsPjmP",
        "outputId": "ea3ef426-ff15-4e90-eb83-69d2e65f7aa7"
      },
      "execution_count": null,
      "outputs": [
        {
          "output_type": "stream",
          "name": "stdout",
          "text": [
            "[-56, 1008, 575, -281, -192, -53, 37, 614, 1177, 905, -35, 1194, 1003, 1238, 459, 226, 865, 875, 677, 403, -40, 1132, 1294, 1109, 1195]\n",
            "[1229, 1213, 469, 1146, 1345, 138, 1175, 1261, 294, 496, 1041, 1382, 1103, 1373, 543, 264, 532, 458, 823, 938, 1231, 21, 1263, 1059, 926]\n",
            "Можно получить 1500 взяв из первого списка  459  и из второго списка 1041\n"
          ]
        }
      ]
    },
    {
      "cell_type": "code",
      "source": [
        "#str1 = input() \n",
        "str1 = \"39П59032, 53М100093, Прикладные геоинформационные системы, 37Т19131, Методология и технология дистанционного обучения, 28М36948, Администрирование корпоративных сетей на основе технологии Windows Server, Методы машинного обучения, 27М64257, Теория систем и системный анализ, 81А68498, Математическая статистика\"\n",
        "#str1 = \"Моделирование процессов в техносфере, 40М115792, Математический анализ 1, 26М37012\"\n",
        "l1 = str1.split(\",\")\n",
        "k_name = []\n",
        "passwd = []\n",
        "for i in range(len(l1)):\n",
        "    if l1[i].strip()[0].isdigit():\n",
        "        passwd.append(l1[i].strip())\n",
        "    else:\n",
        "        k_name.append(l1[i].strip())\n",
        "d1 = []\n",
        "stransw = \"\"\n",
        "passwd.sort()\n",
        "for i in range(len(k_name)):\n",
        "    nn1 = len(k_name[i]) + k_name[i].count(\" \") + 1\n",
        "    pass_pref = str(nn1) + k_name[i][0]\n",
        "    for j in range(len(passwd)):\n",
        "        if passwd[j].startswith(pass_pref):\n",
        "            d1.append([k_name[i],passwd[j]])\n",
        "d1.sort()\n",
        "d2 = {}\n",
        "for k in range(len(d1)):\n",
        "    d2.update({d1[k][0]:d1[k][1]})\n",
        "print(d2)"
      ],
      "metadata": {
        "colab": {
          "base_uri": "https://localhost:8080/"
        },
        "id": "uwmT66phSnQr",
        "outputId": "3829cb9a-2bab-43cf-80a2-de7c5f5ef624"
      },
      "execution_count": null,
      "outputs": [
        {
          "output_type": "stream",
          "name": "stdout",
          "text": [
            "{'Администрирование корпоративных сетей на основе технологии Windows Server': '81А68498', 'Математическая статистика': '27М64257', 'Методология и технология дистанционного обучения': '53М100093', 'Методы машинного обучения': '28М36948', 'Прикладные геоинформационные системы': '39П59032', 'Теория систем и системный анализ': '37Т19131'}\n"
          ]
        }
      ]
    },
    {
      "cell_type": "code",
      "source": [
        "#11. Подбор пароля для курса\n",
        "# str1 = input() \n",
        "#str1 = \"Моделирование процессов в техносфере, 40М115792, Математический анализ 1, 26М37012\"\n",
        "str1 = \"39П59032, 53М100093, Прикладные геоинформационные системы, 37Т19131, Методология и технология дистанционного обучения, 28М36948, Администрирование корпоративных сетей на основе технологии Windows Server, Методы машинного обучения, 27М64257, Теория систем и системный анализ, 81А68498, Математическая статистика\"\n",
        "l1 = str1.split(\",\")\n",
        "k_name = []\n",
        "passwd = []\n",
        "for i in range(len(l1)):\n",
        "    if l1[i].strip()[0].isdigit():\n",
        "        passwd.append(l1[i].strip())\n",
        "    else:\n",
        "        k_name.append(l1[i].strip())\n",
        "d1 = []\n",
        "stransw = \"\"\n",
        "passwd.sort()\n",
        "for i in range(len(k_name)):\n",
        "    nn1 = len(k_name[i]) + k_name[i].count(\" \") + 1\n",
        "    pass_pref = str(nn1) + k_name[i][0]\n",
        "    for j in range(len(passwd)):\n",
        "        if passwd[j].startswith(pass_pref):\n",
        "            # stransw = stransw + \"'\" + passwd[j] + \"':'\" + k_name[i] + \"',\"\n",
        "            d1.append([passwd[j],k_name[i]])\n",
        "d1.sort()\n",
        "print(d1)\n",
        "d2 = {}\n",
        "for k in range(len(d1)):\n",
        "    d2.update({d1[k][1]:d1[k][0]})\n",
        "    #stransw + \"'\" + d1[k][0] + \"':'\" + d1[k][1] + \"',\"\n",
        "print(d2)\n"
      ],
      "metadata": {
        "colab": {
          "base_uri": "https://localhost:8080/"
        },
        "id": "Vq8IMB-yFU_1",
        "outputId": "76f8776e-99ec-41b9-c39c-cbf82d1e03ce"
      },
      "execution_count": null,
      "outputs": [
        {
          "output_type": "stream",
          "name": "stdout",
          "text": [
            "[['27М64257', 'Математическая статистика'], ['28М36948', 'Методы машинного обучения'], ['37Т19131', 'Теория систем и системный анализ'], ['39П59032', 'Прикладные геоинформационные системы'], ['53М100093', 'Методология и технология дистанционного обучения'], ['81А68498', 'Администрирование корпоративных сетей на основе технологии Windows Server']]\n",
            "{'Математическая статистика': '27М64257', 'Методы машинного обучения': '28М36948', 'Теория систем и системный анализ': '37Т19131', 'Прикладные геоинформационные системы': '39П59032', 'Методология и технология дистанционного обучения': '53М100093', 'Администрирование корпоративных сетей на основе технологии Windows Server': '81А68498'}\n"
          ]
        }
      ]
    },
    {
      "cell_type": "code",
      "source": [
        "import numpy as np\n",
        "Z1 = np.zeros((3,4),int)\n",
        "Z2 = np.zeros((2,2),int)\n",
        "bz = Z1.tobytes()\n",
        "print(bz)\n",
        "#Z1.tofile(\"aa\")\n",
        "\n",
        "#np.savez_compressed(\"zz\",Z1 = Z1, Z2 = Z2)\n",
        "#data = np.load('zz.npz')\n",
        "#data.files"
      ],
      "metadata": {
        "colab": {
          "base_uri": "https://localhost:8080/"
        },
        "id": "rvmgAFrLalS6",
        "outputId": "cf059089-3d0f-4201-9f2a-35a82f75297d"
      },
      "execution_count": null,
      "outputs": [
        {
          "output_type": "stream",
          "name": "stdout",
          "text": [
            "b'\\x00\\x00\\x00\\x00\\x00\\x00\\x00\\x00\\x00\\x00\\x00\\x00\\x00\\x00\\x00\\x00\\x00\\x00\\x00\\x00\\x00\\x00\\x00\\x00\\x00\\x00\\x00\\x00\\x00\\x00\\x00\\x00\\x00\\x00\\x00\\x00\\x00\\x00\\x00\\x00\\x00\\x00\\x00\\x00\\x00\\x00\\x00\\x00\\x00\\x00\\x00\\x00\\x00\\x00\\x00\\x00\\x00\\x00\\x00\\x00\\x00\\x00\\x00\\x00\\x00\\x00\\x00\\x00\\x00\\x00\\x00\\x00\\x00\\x00\\x00\\x00\\x00\\x00\\x00\\x00\\x00\\x00\\x00\\x00\\x00\\x00\\x00\\x00\\x00\\x00\\x00\\x00\\x00\\x00\\x00\\x00'\n"
          ]
        }
      ]
    },
    {
      "cell_type": "markdown",
      "source": [
        "# Новый раздел"
      ],
      "metadata": {
        "id": "3TTFp7h1cLVO"
      }
    },
    {
      "cell_type": "markdown",
      "source": [
        "# Новый раздел"
      ],
      "metadata": {
        "id": "ixw4wwaQcLv_"
      }
    },
    {
      "cell_type": "code",
      "source": [
        "a = \"примеры решения задач\"\n",
        "b = a.split(\" \")\n",
        "print(b)\n",
        "c = \":\"\n",
        "c = c.join(b)\n",
        "print(c)"
      ],
      "metadata": {
        "id": "VVcDFtxq_F3j"
      },
      "execution_count": null,
      "outputs": []
    },
    {
      "cell_type": "code",
      "source": [
        "a = [2,3,4,5,2,4,1,22,2]\n",
        "a.remove(2)\n",
        "print(a) "
      ],
      "metadata": {
        "colab": {
          "base_uri": "https://localhost:8080/"
        },
        "id": "cwwNHIAC08pY",
        "outputId": "aa18fcec-67b4-4d40-83db-2934f44d44bc"
      },
      "execution_count": null,
      "outputs": [
        {
          "output_type": "stream",
          "name": "stdout",
          "text": [
            "[3, 4, 5, 2, 4, 1, 22, 2]\n"
          ]
        }
      ]
    },
    {
      "cell_type": "code",
      "source": [
        "class Soda:\n",
        "    def __init__(self, syrup=None):\n",
        "        self.syrup = syrup\n",
        "    def show_my_drink(self):\n",
        "        if self.syrup:\n",
        "            print('Газировка с сиропом ' + self.syrup)\n",
        "        else:\n",
        "            print('Простая газировка')\n",
        "simple_soda = Soda()\n",
        "simple_soda.show_my_drink()\n",
        "barbaris_soda = Soda('барбарис')\n",
        "barbaris_soda.show_my_drink()"
      ],
      "metadata": {
        "colab": {
          "base_uri": "https://localhost:8080/"
        },
        "id": "Y3lUz3FpsQOR",
        "outputId": "2d8003e0-4c52-4a5f-9374-6994cf40b310"
      },
      "execution_count": null,
      "outputs": [
        {
          "output_type": "stream",
          "name": "stdout",
          "text": [
            "Простая газировка\n",
            "Газировка с сиропом барбарис\n"
          ]
        }
      ]
    },
    {
      "cell_type": "markdown",
      "source": [],
      "metadata": {
        "id": "h-BhYsWLKfDN"
      }
    },
    {
      "cell_type": "code",
      "source": [
        "class Functor:\n",
        "    def __init__(self, a, b, c):\n",
        "        self.a = a\n",
        "        self.b = b\n",
        "        self.c = c\n",
        "        self.hist = []\n",
        "        self._max = None\n",
        "    def calc(self, x, y):\n",
        "        if y == 0:\n",
        "            res = None\n",
        "            self.hist += [(x, y, res)]\n",
        "            return res\n",
        "        else:\n",
        "            res = (self.a*x) / (self.b*y) + self.c\n",
        "            if self._max == None: self._max = res \n",
        "            if res > self._max:\n",
        "                  self._max = res\n",
        "            self.hist += [(x, y, res)]\n",
        "            return res\n",
        "    def history(self):\n",
        "        return tuple(self.hist)\n",
        "    def __call__(self, x, y):\n",
        "        return self.calc(x,y)\n",
        "    def __str__(self):\n",
        "        return f'z = {self.a}*x + {self.b}*y + {self.c}'\n",
        "    def new_max(self):\n",
        "        return self._max\n",
        "        #(sorted(self.hist, key=lambda x:x[2]))[-1][2]\n",
        "\n",
        "class decorator:\n",
        "    def __init__(self, func):\n",
        "        self.func = func\n",
        "    def __call__(self, a):\n",
        "        return self.func(a)\n",
        "@decorator\n",
        "def max(a):\n",
        "    return a.new_max()\n",
        "\n",
        "f1 = Functor(4,8,3)\n",
        "print(f1.calc(1,1))\n",
        "print(f1.calc(1,0))\n",
        "print(f1.calc(10,1))\n",
        "print(f1.history())\n",
        "print(str(f1))\n",
        "f1(9,5)\n",
        "f1(100,0.5)\n",
        "print(f1.history())\n",
        "print(f1.new_max())\n",
        "print(max(f1))\n"
      ],
      "metadata": {
        "colab": {
          "base_uri": "https://localhost:8080/"
        },
        "id": "qdMH4PxkyeIB",
        "outputId": "1c7a1e84-8461-4d20-d499-7a9146e60c60"
      },
      "execution_count": null,
      "outputs": [
        {
          "output_type": "stream",
          "name": "stdout",
          "text": [
            "3.5\n",
            "None\n",
            "8.0\n",
            "((1, 1, 3.5), (1, 0, None), (10, 1, 8.0))\n",
            "z = 4*x + 8*y + 3\n",
            "((1, 1, 3.5), (1, 0, None), (10, 1, 8.0), (9, 5, 3.9), (100, 0.5, 103.0))\n",
            "103.0\n",
            "103.0\n"
          ]
        }
      ]
    },
    {
      "cell_type": "markdown",
      "source": [
        "    @property\n",
        "    def x(self):\n",
        "        return self.__x\n",
        "        \n",
        "    @x.setter\n",
        "    def _(self, x):\n",
        "        self.__x = x\n",
        " \n",
        "    @property\n",
        "    def y(self):\n",
        "        return self.__y\n",
        "        \n",
        "    @y.setter\n",
        "    def _(self, y):\n",
        "        self.__y = y\n",
        " \n",
        "    @staticmethod\n",
        "    def __operate(f, u, v):\n",
        "        return Vector(*f(u, v))\n",
        " \n",
        "    def __add__(self, other):\n",
        "        return Vector.__operate(lambda u, v: (u.x + v.x, u.y + v.y), self, other)\n",
        "        \n",
        "    def __sub__(self, other):\n",
        "        return Vector.__operate(lambda u, v: (u.x - v.x, u.y + v.y), self, other)\n",
        "        \n",
        "    def __mul__(self, other):\n",
        "        return Vector.__operate(lambda u, v: (u.x * v.x, u.y + v.y), self, other)\n"
      ],
      "metadata": {
        "id": "DDcUC39ko4hg"
      }
    },
    {
      "cell_type": "code",
      "source": [
        "class Vector:\n",
        "    def __init__(self, x, y, z):\n",
        "        self._x = float(x)\n",
        "        self._y = float(y)\n",
        "        self._z = float(z)\n",
        "        self.hist = []\n",
        "    def __str__(self):\n",
        "        return f'({self._x}, {self._y}, {self._z})'    \n",
        "    def dl(self):  \n",
        "        res = (self._x ** 2 + self._y ** 2 + self._z ** 2) ** 0.5\n",
        "        return res\n",
        "\n",
        "\n",
        "\n",
        "v1 = Vector(1,5,-2)\n",
        "\n",
        "print(v1)\n",
        "v1._x = 4\n",
        "print(v1)"
      ],
      "metadata": {
        "id": "-efsT7YJO1hI",
        "colab": {
          "base_uri": "https://localhost:8080/"
        },
        "outputId": "ba4d75bd-8823-4dbe-d12d-16cdec0683f5"
      },
      "execution_count": null,
      "outputs": [
        {
          "output_type": "stream",
          "name": "stdout",
          "text": [
            "(1.0, 5.0, -2.0)\n",
            "(4, 5.0, -2.0)\n"
          ]
        }
      ]
    },
    {
      "cell_type": "markdown",
      "source": [
        "Класс Вектор\n",
        "Разработайте класс для манипуляций с векторами в трехмерном пространстве. Предусмотреть реализацию математического аппарата для векторов: сумма, разность, скалярное произведение, векторное произведение, длина вектора, проверка на коллинеарность и компланарность. Перегрузить базовую функцию str().\n",
        "Если v – это объект Вашего класса, то v.history() и tuple(v) – должны возвращать историю вычислений для данного объекта в виде кортежа кортежей; str(v) – строковое представление вектора, v.info() – выдавать полную информацию о векторе."
      ],
      "metadata": {
        "id": "ZVhUUxRgO8XM"
      }
    },
    {
      "cell_type": "code",
      "source": [
        "class Vector:\n",
        "\n",
        "    def __init__(self, x, y, z):\n",
        "        self.hist = []\n",
        "        self.x = float(x)\n",
        "        self.y = float(y)\n",
        "        self.z = float(z)\n",
        "\n",
        "    def __str__(self):\n",
        "        return f'({self.x}, {self.y}, {self.z})'\n",
        "\n",
        "    def lenV(self):  \n",
        "        # длина вектора. код для history \"len\"\n",
        "        res = (self.x ** 2 + self.y ** 2 + self.z ** 2) ** 0.5\n",
        "        self.hist += [(\"len\", (self.x , self.y, self.z), res)]\n",
        "        return res\n",
        "\n",
        "    def __xor__(self, other):\n",
        "        # векторное произведение. код для history \"vp\"\n",
        "        xv = self.y * other.z - self.z * other.y\n",
        "        yv = self.z * other.x - self.x * other.z\n",
        "        zv = self.x * other.y - self.y * other.x\n",
        "        self.hist += [(\n",
        "                        \"vp\", (self.x , self.y, self.z), \n",
        "                        (other.x , other.y, other.z),\n",
        "                        (xv, yv, zv)\n",
        "                     )]\n",
        "        other.hist += [(\n",
        "                        \"vp\", (self.x , self.y, self.z), \n",
        "                        (other.x , other.y, other.z),\n",
        "                        (xv, yv, zv)\n",
        "                     )]\n",
        "        return Vector(xv, yv, zv)\n",
        "\n",
        "    def __mul__(self, other):\n",
        "        # скалярное произведение. код для history \"sp\"\n",
        "        sp = self.x * other.x + self.y * other.y + self.z * other.z\n",
        "        self.hist += [(\n",
        "                        \"sp\", (self.x , self.y, self.z), \n",
        "                         (other.x , other.y, other.z), sp\n",
        "                     )]\n",
        "        other.hist += [(\n",
        "                        \"sp\", (self.x , self.y, self.z), \n",
        "                         (other.x , other.y, other.z), sp\n",
        "                     )]\n",
        "        return sp\n",
        "\n",
        "    def __add__(self, other):\n",
        "        # сумма векторов. код для history \"sv\"\n",
        "        sx = self.x + other.x\n",
        "        sy = self.y + other.y\n",
        "        sz = self.z + other.z\n",
        "        self.hist += [(\n",
        "                        \"sv\", (self.x , self.y, self.z), \n",
        "                         (other.x , other.y, other.z), \n",
        "                         (sx, sy, sz)\n",
        "                     )]\n",
        "        other.hist += [(\n",
        "                        \"sv\", (self.x , self.y, self.z), \n",
        "                         (other.x , other.y, other.z), \n",
        "                         (sx, sy, sz)\n",
        "                     )]\n",
        "        return Vector(sx, sy, sz)\n",
        "\n",
        "    def __sub__(self, other):\n",
        "        # разность векторов. код для history \"rv\"\n",
        "        rx = self.x - other.x\n",
        "        ry = self.y - other.y\n",
        "        rz = self.z - other.z\n",
        "        self.hist += [(\n",
        "                        \"rv\", (self.x , self.y, self.z), \n",
        "                         (other.x , other.y, other.z), \n",
        "                         (rx, ry, rz)\n",
        "                     )]\n",
        "        other.hist += [(\n",
        "                        \"rv\", (self.x , self.y, self.z), \n",
        "                         (other.x , other.y, other.z), \n",
        "                         (rx, ry, rz)\n",
        "                     )]\n",
        "        return Vector(rx, ry, rz)\n",
        "\n",
        "    def isCollin(self, other):\n",
        "        # проверка коллинеарности векторов \n",
        "        v = (self ^ other)\n",
        "        if abs(v.x) + (v.y) + (v.z) == 0:\n",
        "            res = True\n",
        "        else:\n",
        "            res = False\n",
        "        return res\n",
        "        \n",
        "    def isCompl(self, other1, other2):\n",
        "        # проверка компланарность векторов \n",
        "        v = (self ^ other1) * other2\n",
        "        if v == 0:\n",
        "            res = True\n",
        "        else:\n",
        "            res = False\n",
        "        return res\n",
        "\n",
        "v1 = Vector(2, 4, 0)\n",
        "v2 = Vector(5, 2, 4)\n",
        "v3 = Vector(4, 8, 1)\n",
        "print(v1)\n",
        "print(v2)\n",
        "print(\"Длина вектора: \", v2.lenV())\n",
        "# v2.y = 7\n",
        "print(\"Векторное произведение: \", v1 ^ v2)\n",
        "print(v1 * v2)\n",
        "print(v1 + v2)\n",
        "print(v1 - v2)\n",
        "print(v1.isCollin(v2))\n",
        "print(v1.isCompl(v2,v3))\n",
        "print(v1.hist)\n",
        "print(v2.hist)"
      ],
      "metadata": {
        "colab": {
          "base_uri": "https://localhost:8080/"
        },
        "id": "g8EZqvbhuHq2",
        "outputId": "70879cbf-d7c2-46cf-fbce-212a935bc099"
      },
      "execution_count": null,
      "outputs": [
        {
          "output_type": "stream",
          "name": "stdout",
          "text": [
            "(2.0, 4.0, 0.0)\n",
            "(5.0, 2.0, 4.0)\n",
            "Длина вектора:  6.708203932499369\n",
            "Векторное произведение:  (16.0, -8.0, -16.0)\n",
            "18.0\n",
            "(7.0, 6.0, 4.0)\n",
            "(-3.0, 2.0, -4.0)\n",
            "False\n",
            "False\n",
            "[('vp', (2.0, 4.0, 0.0), (5.0, 2.0, 4.0), (16.0, -8.0, -16.0)), ('sp', (2.0, 4.0, 0.0), (5.0, 2.0, 4.0), 18.0), ('sv', (2.0, 4.0, 0.0), (5.0, 2.0, 4.0), (7.0, 6.0, 4.0)), ('vp', (2.0, 4.0, 0.0), (5.0, 2.0, 4.0), (16.0, -8.0, -16.0)), ('vp', (2.0, 4.0, 0.0), (5.0, 2.0, 4.0), (16.0, -8.0, -16.0))]\n",
            "[('len', (5.0, 2.0, 4.0), 6.708203932499369), ('vp', (2.0, 4.0, 0.0), (5.0, 2.0, 4.0), (16.0, -8.0, -16.0)), ('sp', (2.0, 4.0, 0.0), (5.0, 2.0, 4.0), 18.0), ('sv', (2.0, 4.0, 0.0), (5.0, 2.0, 4.0), (7.0, 6.0, 4.0)), ('vp', (2.0, 4.0, 0.0), (5.0, 2.0, 4.0), (16.0, -8.0, -16.0)), ('vp', (2.0, 4.0, 0.0), (5.0, 2.0, 4.0), (16.0, -8.0, -16.0))]\n"
          ]
        }
      ]
    },
    {
      "cell_type": "code",
      "source": [
        "def sortkey(x):\n",
        "    return x % 2\n",
        "list1 = []\n",
        "print(\"Введите элементы списка. Чтобы закончить введите пустую строку\")\n",
        "while True:\n",
        "    try:\n",
        "        el = input(\"Введите число: \")\n",
        "        val = int(el)\n",
        "        list1.append(val)\n",
        "    except ValueError:\n",
        "        break\n",
        "print(sorted(list1, key=sortkey))"
      ],
      "metadata": {
        "colab": {
          "base_uri": "https://localhost:8080/"
        },
        "id": "hFtxqjF_7pyP",
        "outputId": "46fa6381-c745-41e8-fe9d-afa1f58b2e58"
      },
      "execution_count": null,
      "outputs": [
        {
          "output_type": "stream",
          "name": "stdout",
          "text": [
            "Введите элементы списка. Чтобы закончить введите пустую строку\n",
            "Введите число: 5\n",
            "Введите число: 3\n",
            "Введите число: 1\n",
            "Введите число: 11\n",
            "Введите число: 43\n",
            "Введите число: 6\n",
            "Введите число: \n",
            "[6, 5, 3, 1, 11, 43]\n"
          ]
        }
      ]
    },
    {
      "cell_type": "code",
      "source": [
        "def sortkey(x):\n",
        "    return len(x)\n",
        "list1 = []\n",
        "print(\"Введите элементы списка. Чтобы закончить введите пустую строку\")\n",
        "while True:\n",
        "    el = input(\"Введите строку: \")\n",
        "    if len(el) != 0:\n",
        "        list1.append(el)\n",
        "    else:\n",
        "        break\n",
        "print(sorted(list1, key=sortkey))"
      ],
      "metadata": {
        "colab": {
          "base_uri": "https://localhost:8080/"
        },
        "id": "eArBQpkOFA5h",
        "outputId": "0f7baf6a-f985-438f-c920-758ea5de9b65"
      },
      "execution_count": null,
      "outputs": [
        {
          "output_type": "stream",
          "name": "stdout",
          "text": [
            "Введите элементы списка. Чтобы закончить введите пустую строку\n",
            "Введите строку: iiii\n",
            "Введите строку: yres\n",
            "Введите строку: ppppppp\n",
            "Введите строку: d\n",
            "Введите строку: \n",
            "['d', 'iiii', 'yres', 'ppppppp']\n"
          ]
        }
      ]
    },
    {
      "cell_type": "code",
      "source": [
        "from operator import itemgetter\n",
        "books = [\n",
        "        (\"Евгений Онегин\", \"Пушкин А.С.\", 200),\n",
        "        (\"Муму\", \"Тургенев И.С.\", 250),\n",
        "        (\"Мастер и Маргарита\", \"Булгаков М.А.\", 500),\n",
        "        (\"Мертвые души\", \"Гоголь Н.В.\", 190)\n",
        "        ]\n",
        "# Сортировка по третьему элементу в кортеже\n",
        "print(sorted(books, key=itemgetter(2),reverse = True))"
      ],
      "metadata": {
        "colab": {
          "base_uri": "https://localhost:8080/"
        },
        "id": "anOl8g74Fh3-",
        "outputId": "e5d40e47-6a25-4e9e-d2f0-da855978745d"
      },
      "execution_count": null,
      "outputs": [
        {
          "output_type": "stream",
          "name": "stdout",
          "text": [
            "[('Мастер и Маргарита', 'Булгаков М.А.', 500), ('Муму', 'Тургенев И.С.', 250), ('Евгений Онегин', 'Пушкин А.С.', 200), ('Мертвые души', 'Гоголь Н.В.', 190)]\n"
          ]
        }
      ]
    }
  ]
}